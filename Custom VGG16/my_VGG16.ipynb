{
 "cells": [
  {
   "cell_type": "code",
   "execution_count": 1,
   "id": "783e0b16",
   "metadata": {
    "ExecuteTime": {
     "end_time": "2021-07-24T05:19:18.723112Z",
     "start_time": "2021-07-24T05:18:14.192293Z"
    }
   },
   "outputs": [
    {
     "name": "stdout",
     "output_type": "stream",
     "text": [
      "Amount of labels -> 101 \n",
      "\n",
      "CricketShot has the most samples with 167 clips\n",
      "PlayingViolin has the least samples with 100 clips\n",
      "\n",
      "All actions have: 25 samples\n",
      "\n",
      "Top 5 actions with least clips per sample:\n",
      "                Total Clips  Samples  Clips per sample\n",
      "Labels                                               \n",
      "PlayingViolin          100       25              4.00\n",
      "PullUps                100       25              4.00\n",
      "Skijet                 100       25              4.00\n",
      "TaiChi                 100       25              4.00\n",
      "BreastStroke           101       25              4.04 \n",
      "\n",
      "Top 5 actions with most clips per sample\n",
      "               Total Clips  Samples  Clips per sample\n",
      "Labels                                              \n",
      "CricketShot           167       25              6.68\n",
      "TennisSwing           166       25              6.64\n",
      "HorseRiding           164       25              6.56\n",
      "PlayingCello          164       25              6.56\n",
      "PlayingDhol           164       25              6.56\n",
      "\n",
      "train/test data already created\n",
      "\n"
     ]
    }
   ],
   "source": [
    "import os\n",
    "os.environ['TF_CPP_MIN_LOG_LEVEL'] = '3'  # nopep8\n",
    "os.environ[\"TF_ENABLE_AUTO_MIXED_PRECISION\"] = '1'\n",
    "\n",
    "FILE_PATH = os.getcwd()\n",
    "import sys\n",
    "sys.path.append('\\\\'.join(FILE_PATH.split('\\\\')[:3]))\n",
    "import argparse\n",
    "import tensorflow as tf\n",
    "from tensorflow import keras\n",
    "from tensorflow.keras import layers\n",
    "from tensorflow.keras.layers.experimental import preprocessing\n",
    "import pandas as pd\n",
    "from matplotlib import pyplot as plt\n",
    "from trainvaltest import trainvaltest\n",
    "\n",
    "tf.config.experimental.set_memory_growth(tf.config.list_physical_devices('GPU')[0], True)"
   ]
  },
  {
   "cell_type": "code",
   "execution_count": 2,
   "id": "655581ae",
   "metadata": {
    "ExecuteTime": {
     "end_time": "2021-07-24T05:25:17.468708Z",
     "start_time": "2021-07-24T05:19:18.726115Z"
    },
    "scrolled": true
   },
   "outputs": [
    {
     "name": "stdout",
     "output_type": "stream",
     "text": [
      "\n",
      "Train:\n",
      "Found 376524 images belonging to 101 classes.\n",
      "Validation:\n",
      "Found 37609 images belonging to 101 classes.\n",
      "Test:\n",
      "Found 137772 images belonging to 101 classes.\n",
      "\n",
      "Input shape -> (224, 224, 3)\n",
      "\n"
     ]
    }
   ],
   "source": [
    "MODEL_NAME = \"my_VGG16.h5\"\n",
    "MODEL_PATH = os.path.join(FILE_PATH, MODEL_NAME)\n",
    "BATCH_SIZE = 16\n",
    "LABELS, INPUT_SHAPE, Train_Data, Val_Data, Test_Data = trainvaltest(BATCH_SIZE=BATCH_SIZE)\n",
    "EPOCHS = 20\n",
    "VERBOSE = 1"
   ]
  },
  {
   "cell_type": "code",
   "execution_count": 3,
   "id": "992798db",
   "metadata": {
    "ExecuteTime": {
     "end_time": "2021-07-24T05:25:17.484697Z",
     "start_time": "2021-07-24T05:25:17.470703Z"
    }
   },
   "outputs": [],
   "source": [
    "class Preprocess(layers.Layer):\n",
    "    def __init__(self, factor=0.2, scale=1.0 / 255.0, flipmode='horizontal', seed=182):\n",
    "        \"\"\"Image preprocessing layer Block\n",
    "\n",
    "        Args:\n",
    "            factor (float, optional): factor to set for rotation, brightness, zoom and image shifting. Defaults to 0.2.\n",
    "            scale (float, optional): float to multiple all features by and normalize tensorflow. Defaults to 1.0/255.0.\n",
    "            seed (int, optional): set the seed value for all preprocessing layers. Defaults to 182\n",
    "        \"\"\"\n",
    "        super(Preprocess, self).__init__()\n",
    "        self.factor = factor\n",
    "        self.scale = scale\n",
    "        self.seed = seed\n",
    "        self.flipmode = flipmode\n",
    "\n",
    "        self.rescale = preprocessing.Rescaling(scale=self.scale)\n",
    "        self.randomrotate = preprocessing.RandomRotation(factor=self.factor, seed=self.seed)\n",
    "        self.randomzoom = preprocessing.RandomZoom(height_factor=self.factor, width_factor=self.factor, seed=self.seed)\n",
    "        self.shift = preprocessing.RandomTranslation(height_factor=self.factor, width_factor=self.factor, seed=self.seed)\n",
    "        self.flip = preprocessing.RandomFlip(mode=self.flipmode, seed=self.seed)\n",
    "        \n",
    "    def get_config(self):\n",
    "        config = super().get_config().copy()\n",
    "        config.update({\n",
    "            'factor': self.factor,\n",
    "            'scale': self.scale,\n",
    "            'seed': self.seed,\n",
    "            'flipmode': self.flipmode\n",
    "        })\n",
    "        return config\n",
    "\n",
    "    @tf.function\n",
    "    def call(self, image):\n",
    "        \"\"\"apply all preprocessing steps in\n",
    "\n",
    "        Args:\n",
    "            image (tensor): numerical data of image\n",
    "\n",
    "        Returns:\n",
    "            tensor: preprocessed data\n",
    "        \"\"\"\n",
    "        image = self.rescale(image)\n",
    "        image = self.randomrotate(image)\n",
    "        image = self.randomzoom(image)\n",
    "        image = self.shift(image)\n",
    "        image = self.flip(image)\n",
    "        return image"
   ]
  },
  {
   "cell_type": "code",
   "execution_count": 4,
   "id": "57207248",
   "metadata": {
    "ExecuteTime": {
     "end_time": "2021-07-24T05:25:17.500700Z",
     "start_time": "2021-07-24T05:25:17.486699Z"
    }
   },
   "outputs": [],
   "source": [
    "class CNNBlock(layers.Layer):\n",
    "    def __init__(self, filters, triple=False, conv_kernel_size=(3, 3), conv_strides=(1, 1), pool_size=(2, 2), pool_strides=(2, 2), padding='same'):\n",
    "        \"\"\"block of either double (or triple) conv layers\n",
    "\n",
    "        Args:\n",
    "            filters (int): numbers of filters for the conv layers within this block\n",
    "            triple (bool, optional): whether this conv block contains double (2) or triple (3) conv layers. Defaults to False.\n",
    "            conv_strides (tuple, optional): tuple to set strides value for conv layers. Defaults to (1, 1).\n",
    "            conv_kernel_size (tuple, optional): kernel size for the conv layers in this block. Defaults to (3, 3).\n",
    "            pool_size (tuple, optional): pool size for pooling layer for this block. Defaults to (2, 2).\n",
    "            pool_strides (tuple, optional): strides value for pooling for this block. Defaults to (2, 2).\n",
    "            padding (str, optional): padding value of conv layers. Defaults to 'same'.\n",
    "        \"\"\"\n",
    "        super(CNNBlock, self).__init__()\n",
    "        self.triple = triple\n",
    "        self.pool_size = pool_size\n",
    "        self.pool_strides = pool_strides\n",
    "        self.filters = filters\n",
    "        self.conv_kernel_size = conv_kernel_size\n",
    "        self.conv_strides = conv_strides\n",
    "        self.padding = padding\n",
    "\n",
    "        self.conv1 = self.conv_layer()\n",
    "        self.conv2 = self.conv_layer()\n",
    "        if self.triple == True:\n",
    "            self.conv3 = self.conv_layer()\n",
    "        self.batch_norm = layers.BatchNormalization()\n",
    "        self.maxpooling = layers.MaxPooling2D(pool_size=self.pool_size, strides=self.pool_strides)\n",
    "\n",
    "    def conv_layer(self):\n",
    "        return layers.Conv2D(filters=self.filters, kernel_size=self.conv_kernel_size, strides=self.conv_strides,\n",
    "                             padding=self.padding, activation=layers.ReLU(), use_bias=False, kernel_initializer='he_normal')\n",
    "    \n",
    "    def get_config(self):\n",
    "        config = super().get_config().copy()\n",
    "        config.update({\n",
    "            'triple': self.triple,\n",
    "            'pool_size': self.pool_size,\n",
    "            'pool_strides': self.pool_strides,\n",
    "            'filters': self.filters,\n",
    "            'conv_kernel_size': self.conv_kernel_size,\n",
    "            'conv_strides': self.conv_stides,\n",
    "            'padding': self.padding\n",
    "        })\n",
    "        return config\n",
    "        \n",
    "    def __call__(self, input_tensor, training=False):\n",
    "        \"\"\"forward propagation\n",
    "\n",
    "        Args:\n",
    "            input_tensor (input_tensor): input tensor for this data point\n",
    "            training (bool): whether to set batch normalization to training or not\n",
    "\n",
    "        Returns:\n",
    "            tensor: output of the current CNN block\n",
    "        \"\"\"\n",
    "        x = self.conv1(input_tensor)\n",
    "        x = self.conv2(x)\n",
    "        if self.triple == True:\n",
    "            x = self.conv3(x)\n",
    "        x = self.batch_norm(x, training=training)\n",
    "        x = self.maxpooling(x)\n",
    "        return x"
   ]
  },
  {
   "cell_type": "code",
   "execution_count": 5,
   "id": "34c7c16d",
   "metadata": {
    "ExecuteTime": {
     "end_time": "2021-07-24T05:25:17.515705Z",
     "start_time": "2021-07-24T05:25:17.501701Z"
    }
   },
   "outputs": [],
   "source": [
    "class Model(keras.Model):\n",
    "    def __init__(self, n_labels):\n",
    "        \"\"\"model build via subclassing\n",
    "\n",
    "        Args:\n",
    "            n_labels (int): amount of labels for the model to predict\n",
    "        \"\"\"\n",
    "        super(Model, self).__init__()\n",
    "        self.n_labels = n_labels\n",
    "\n",
    "        self.preprocess = Preprocess()\n",
    "        self.cnnblock1 = CNNBlock(filters=64)\n",
    "        self.cnnblock2 = CNNBlock(filters=128)\n",
    "        self.cnnblock3 = CNNBlock(filters=256, triple=True)\n",
    "        self.cnnblock4 = CNNBlock(filters=512, triple=True)\n",
    "        self.cnnblock5 = CNNBlock(filters=512, triple=True)\n",
    "        self.globalmaxpooling = layers.GlobalMaxPooling2D()\n",
    "        self.flatten = layers.Flatten()\n",
    "        self.fc = layers.Dense(4096, activation=layers.ReLU())\n",
    "        self.fc2 = layers.Dense(4096, activation=layers.ReLU())\n",
    "        self.outputs = layers.Dense(self.n_labels)\n",
    "\n",
    "    @tf.function\n",
    "    def call(self, input_tensor):\n",
    "        \"\"\"forward propagation for the entire model between each layer\n",
    "\n",
    "        Args:\n",
    "            input_tensor (tensor): output of the previous layer\n",
    "\n",
    "        Returns:\n",
    "            tensor: output of the previous tensor\n",
    "        \"\"\"\n",
    "        x = self.preprocess(input_tensor)\n",
    "        x = self.cnnblock1(x)\n",
    "        x = self.cnnblock2(x)\n",
    "        x = self.cnnblock3(x)\n",
    "        x = self.cnnblock4(x)\n",
    "        x = self.cnnblock5(x)\n",
    "        x = self.globalmaxpooling(x)\n",
    "        x = self.flatten(x)\n",
    "        x = self.fc(x)\n",
    "        x = self.fc2(x)\n",
    "        x = self.outputs(x)\n",
    "        return x"
   ]
  },
  {
   "cell_type": "code",
   "execution_count": 6,
   "id": "626b7829",
   "metadata": {
    "ExecuteTime": {
     "end_time": "2021-07-24T05:25:17.530732Z",
     "start_time": "2021-07-24T05:25:17.516727Z"
    }
   },
   "outputs": [],
   "source": [
    "def create_model(inp_shape, n_labels, model_name):\n",
    "    \"\"\"creates model (input and output), name layers and compile\n",
    "\n",
    "    Args:\n",
    "        inp_shape (tuple(int)): tuple of ints, input shape\n",
    "        n_labels (int): number of labels for last layer\n",
    "        model_name (str): name of model\n",
    "        layer_names (list(str)): list of names for each layer in model\n",
    "\n",
    "    Returns:\n",
    "        model: named and configured model with input/output and named layers\n",
    "    \"\"\"\n",
    "    model = keras.Sequential(Model(n_labels=n_labels).layers)        \n",
    "    model._name = model_name\n",
    "    model.build(input_shape=(None, *inp_shape))\n",
    "\n",
    "    model.compile(loss=keras.losses.SparseCategoricalCrossentropy(from_logits=True),\n",
    "                  optimizer=keras.optimizers.Adam(learning_rate=1e-4),\n",
    "                  metrics=[keras.metrics.SparseCategoricalAccuracy(name='acc')])\n",
    "\n",
    "    model.summary()\n",
    "    return model"
   ]
  },
  {
   "cell_type": "code",
   "execution_count": 7,
   "id": "f6366c16",
   "metadata": {
    "ExecuteTime": {
     "end_time": "2021-07-24T05:25:19.394656Z",
     "start_time": "2021-07-24T05:25:17.532714Z"
    },
    "scrolled": false
   },
   "outputs": [
    {
     "name": "stdout",
     "output_type": "stream",
     "text": [
      "Model: \"my_VGG16.h5\"\n",
      "_________________________________________________________________\n",
      "Layer (type)                 Output Shape              Param #   \n",
      "=================================================================\n",
      "preprocess (Preprocess)      (None, 224, 224, 3)       0         \n",
      "_________________________________________________________________\n",
      "conv2d (Conv2D)              (None, 224, 224, 64)      1792      \n",
      "_________________________________________________________________\n",
      "conv2d_1 (Conv2D)            (None, 224, 224, 64)      36928     \n",
      "_________________________________________________________________\n",
      "batch_normalization (BatchNo (None, 224, 224, 64)      256       \n",
      "_________________________________________________________________\n",
      "max_pooling2d (MaxPooling2D) (None, 112, 112, 64)      0         \n",
      "_________________________________________________________________\n",
      "conv2d_2 (Conv2D)            (None, 112, 112, 128)     73856     \n",
      "_________________________________________________________________\n",
      "conv2d_3 (Conv2D)            (None, 112, 112, 128)     147584    \n",
      "_________________________________________________________________\n",
      "batch_normalization_1 (Batch (None, 112, 112, 128)     512       \n",
      "_________________________________________________________________\n",
      "max_pooling2d_1 (MaxPooling2 (None, 56, 56, 128)       0         \n",
      "_________________________________________________________________\n",
      "conv2d_4 (Conv2D)            (None, 56, 56, 256)       295168    \n",
      "_________________________________________________________________\n",
      "conv2d_5 (Conv2D)            (None, 56, 56, 256)       590080    \n",
      "_________________________________________________________________\n",
      "conv2d_6 (Conv2D)            (None, 56, 56, 256)       590080    \n",
      "_________________________________________________________________\n",
      "batch_normalization_2 (Batch (None, 56, 56, 256)       1024      \n",
      "_________________________________________________________________\n",
      "max_pooling2d_2 (MaxPooling2 (None, 28, 28, 256)       0         \n",
      "_________________________________________________________________\n",
      "conv2d_7 (Conv2D)            (None, 28, 28, 512)       1180160   \n",
      "_________________________________________________________________\n",
      "conv2d_8 (Conv2D)            (None, 28, 28, 512)       2359808   \n",
      "_________________________________________________________________\n",
      "conv2d_9 (Conv2D)            (None, 28, 28, 512)       2359808   \n",
      "_________________________________________________________________\n",
      "batch_normalization_3 (Batch (None, 28, 28, 512)       2048      \n",
      "_________________________________________________________________\n",
      "max_pooling2d_3 (MaxPooling2 (None, 14, 14, 512)       0         \n",
      "_________________________________________________________________\n",
      "conv2d_10 (Conv2D)           (None, 14, 14, 512)       2359808   \n",
      "_________________________________________________________________\n",
      "conv2d_11 (Conv2D)           (None, 14, 14, 512)       2359808   \n",
      "_________________________________________________________________\n",
      "conv2d_12 (Conv2D)           (None, 14, 14, 512)       2359808   \n",
      "_________________________________________________________________\n",
      "batch_normalization_4 (Batch (None, 14, 14, 512)       2048      \n",
      "_________________________________________________________________\n",
      "max_pooling2d_4 (MaxPooling2 (None, 7, 7, 512)         0         \n",
      "_________________________________________________________________\n",
      "global_max_pooling2d (Global (None, 512)               0         \n",
      "_________________________________________________________________\n",
      "flatten (Flatten)            (None, 512)               0         \n",
      "_________________________________________________________________\n",
      "dense (Dense)                (None, 4096)              2101248   \n",
      "_________________________________________________________________\n",
      "dense_1 (Dense)              (None, 4096)              16781312  \n",
      "_________________________________________________________________\n",
      "dense_2 (Dense)              (None, 101)               413797    \n",
      "=================================================================\n",
      "Total params: 34,016,933\n",
      "Trainable params: 34,013,989\n",
      "Non-trainable params: 2,944\n",
      "_________________________________________________________________\n"
     ]
    }
   ],
   "source": [
    "model = create_model(inp_shape=INPUT_SHAPE, n_labels=LABELS, model_name=MODEL_NAME)\n",
    "earlystopping = keras.callbacks.EarlyStopping(monitor='val_acc', patience=3, verbose=VERBOSE)\n",
    "best_checkpoint = keras.callbacks.ModelCheckpoint(filepath=MODEL_PATH,\n",
    "                                                  monitor='val_acc',\n",
    "                                                  save_best_only=True,\n",
    "                                                  save_freq='epoch',\n",
    "                                                  verbose=VERBOSE)\n",
    "callbacks = [earlystopping, best_checkpoint]"
   ]
  },
  {
   "cell_type": "code",
   "execution_count": 8,
   "id": "4ca03087",
   "metadata": {
    "ExecuteTime": {
     "end_time": "2021-07-24T10:54:05.529624Z",
     "start_time": "2021-07-24T05:25:19.396658Z"
    },
    "scrolled": false
   },
   "outputs": [
    {
     "name": "stdout",
     "output_type": "stream",
     "text": [
      "Epoch 1/20\n",
      "1470/1470 [==============================] - 1911s 1s/step - loss: 3.6264 - acc: 0.1563 - val_loss: 3.4479 - val_acc: 0.2098\n",
      "\n",
      "Epoch 00001: val_acc improved from -inf to 0.20976, saving model to D:\\Python\\Action Recognition\\Custom VGG16\\my_VGG16.h5\n",
      "Epoch 2/20\n",
      "1470/1470 [==============================] - 1728s 1s/step - loss: 2.7456 - acc: 0.3133 - val_loss: 2.4065 - val_acc: 0.3664\n",
      "\n",
      "Epoch 00002: val_acc improved from 0.20976 to 0.36644, saving model to D:\\Python\\Action Recognition\\Custom VGG16\\my_VGG16.h5\n",
      "Epoch 3/20\n",
      "1470/1470 [==============================] - 1589s 1s/step - loss: 2.0824 - acc: 0.4611 - val_loss: 1.6334 - val_acc: 0.5702\n",
      "\n",
      "Epoch 00003: val_acc improved from 0.36644 to 0.57021, saving model to D:\\Python\\Action Recognition\\Custom VGG16\\my_VGG16.h5\n",
      "Epoch 4/20\n",
      "1470/1470 [==============================] - 1440s 978ms/step - loss: 1.5470 - acc: 0.5867 - val_loss: 1.2941 - val_acc: 0.6511\n",
      "\n",
      "Epoch 00004: val_acc improved from 0.57021 to 0.65111, saving model to D:\\Python\\Action Recognition\\Custom VGG16\\my_VGG16.h5\n",
      "Epoch 5/20\n",
      "1470/1470 [==============================] - 1441s 980ms/step - loss: 1.1792 - acc: 0.6826 - val_loss: 1.1314 - val_acc: 0.6759\n",
      "\n",
      "Epoch 00005: val_acc improved from 0.65111 to 0.67594, saving model to D:\\Python\\Action Recognition\\Custom VGG16\\my_VGG16.h5\n",
      "Epoch 6/20\n",
      "1470/1470 [==============================] - 1484s 1s/step - loss: 0.9324 - acc: 0.7452 - val_loss: 0.7075 - val_acc: 0.7967\n",
      "\n",
      "Epoch 00006: val_acc improved from 0.67594 to 0.79666, saving model to D:\\Python\\Action Recognition\\Custom VGG16\\my_VGG16.h5\n",
      "Epoch 7/20\n",
      "1470/1470 [==============================] - 1449s 984ms/step - loss: 0.7889 - acc: 0.7781 - val_loss: 0.8824 - val_acc: 0.7543\n",
      "\n",
      "Epoch 00007: val_acc did not improve from 0.79666\n",
      "Epoch 8/20\n",
      "1470/1470 [==============================] - 1395s 949ms/step - loss: 0.6722 - acc: 0.8094 - val_loss: 0.7048 - val_acc: 0.7979\n",
      "\n",
      "Epoch 00008: val_acc improved from 0.79666 to 0.79795, saving model to D:\\Python\\Action Recognition\\Custom VGG16\\my_VGG16.h5\n",
      "Epoch 9/20\n",
      "1470/1470 [==============================] - 1409s 958ms/step - loss: 0.5627 - acc: 0.8386 - val_loss: 0.5402 - val_acc: 0.8485\n",
      "\n",
      "Epoch 00009: val_acc improved from 0.79795 to 0.84846, saving model to D:\\Python\\Action Recognition\\Custom VGG16\\my_VGG16.h5\n",
      "Epoch 10/20\n",
      "1470/1470 [==============================] - 1452s 988ms/step - loss: 0.5189 - acc: 0.8499 - val_loss: 0.2947 - val_acc: 0.9178\n",
      "\n",
      "Epoch 00010: val_acc improved from 0.84846 to 0.91781, saving model to D:\\Python\\Action Recognition\\Custom VGG16\\my_VGG16.h5\n",
      "Epoch 11/20\n",
      "1470/1470 [==============================] - 1485s 1s/step - loss: 0.4563 - acc: 0.8690 - val_loss: 0.6516 - val_acc: 0.8249\n",
      "\n",
      "Epoch 00011: val_acc did not improve from 0.91781\n",
      "Epoch 12/20\n",
      "1470/1470 [==============================] - 1481s 1s/step - loss: 0.4072 - acc: 0.8838 - val_loss: 0.4029 - val_acc: 0.8827\n",
      "\n",
      "Epoch 00012: val_acc did not improve from 0.91781\n",
      "Epoch 13/20\n",
      "1470/1470 [==============================] - 1425s 970ms/step - loss: 0.3863 - acc: 0.8882 - val_loss: 0.6574 - val_acc: 0.8125\n",
      "\n",
      "Epoch 00013: val_acc did not improve from 0.91781\n",
      "Epoch 00013: early stopping\n"
     ]
    }
   ],
   "source": [
    "train = model.fit(Train_Data,\n",
    "                  epochs=EPOCHS,\n",
    "                  verbose=VERBOSE,\n",
    "                  steps_per_epoch=len(Train_Data) // BATCH_SIZE,\n",
    "                  callbacks=callbacks,\n",
    "                  validation_data=Val_Data,\n",
    "                  validation_steps=len(Val_Data) // BATCH_SIZE,\n",
    "                  use_multiprocessing=True,\n",
    "                  workers=-1)"
   ]
  },
  {
   "cell_type": "code",
   "execution_count": 9,
   "id": "4cce4d5c",
   "metadata": {
    "ExecuteTime": {
     "end_time": "2021-07-24T11:03:17.431238Z",
     "start_time": "2021-07-24T10:54:05.555406Z"
    }
   },
   "outputs": [
    {
     "name": "stdout",
     "output_type": "stream",
     "text": [
      "538/538 [==============================] - 550s 1s/step - loss: 5.6602 - acc: 0.2088\n"
     ]
    }
   ],
   "source": [
    "test = model.evaluate(Test_Data, steps=len(Test_Data) // BATCH_SIZE, workers=-1, use_multiprocessing=True, verbose=VERBOSE)"
   ]
  },
  {
   "cell_type": "code",
   "execution_count": 10,
   "id": "c4e08c5c",
   "metadata": {
    "ExecuteTime": {
     "end_time": "2021-07-24T11:03:17.621448Z",
     "start_time": "2021-07-24T11:03:17.447224Z"
    }
   },
   "outputs": [
    {
     "data": {
      "text/html": [
       "<div>\n",
       "<style scoped>\n",
       "    .dataframe tbody tr th:only-of-type {\n",
       "        vertical-align: middle;\n",
       "    }\n",
       "\n",
       "    .dataframe tbody tr th {\n",
       "        vertical-align: top;\n",
       "    }\n",
       "\n",
       "    .dataframe thead th {\n",
       "        text-align: right;\n",
       "    }\n",
       "</style>\n",
       "<table border=\"1\" class=\"dataframe\">\n",
       "  <thead>\n",
       "    <tr style=\"text-align: right;\">\n",
       "      <th></th>\n",
       "      <th>loss</th>\n",
       "      <th>acc</th>\n",
       "      <th>val_loss</th>\n",
       "      <th>val_acc</th>\n",
       "    </tr>\n",
       "  </thead>\n",
       "  <tbody>\n",
       "    <tr>\n",
       "      <th>0</th>\n",
       "      <td>3.626413</td>\n",
       "      <td>0.156293</td>\n",
       "      <td>3.447938</td>\n",
       "      <td>0.209760</td>\n",
       "    </tr>\n",
       "    <tr>\n",
       "      <th>1</th>\n",
       "      <td>2.745566</td>\n",
       "      <td>0.313265</td>\n",
       "      <td>2.406520</td>\n",
       "      <td>0.366438</td>\n",
       "    </tr>\n",
       "    <tr>\n",
       "      <th>2</th>\n",
       "      <td>2.082417</td>\n",
       "      <td>0.461054</td>\n",
       "      <td>1.633405</td>\n",
       "      <td>0.570205</td>\n",
       "    </tr>\n",
       "    <tr>\n",
       "      <th>3</th>\n",
       "      <td>1.546991</td>\n",
       "      <td>0.586735</td>\n",
       "      <td>1.294053</td>\n",
       "      <td>0.651113</td>\n",
       "    </tr>\n",
       "    <tr>\n",
       "      <th>4</th>\n",
       "      <td>1.179188</td>\n",
       "      <td>0.682568</td>\n",
       "      <td>1.131423</td>\n",
       "      <td>0.675942</td>\n",
       "    </tr>\n",
       "  </tbody>\n",
       "</table>\n",
       "</div>"
      ],
      "text/plain": [
       "       loss       acc  val_loss   val_acc\n",
       "0  3.626413  0.156293  3.447938  0.209760\n",
       "1  2.745566  0.313265  2.406520  0.366438\n",
       "2  2.082417  0.461054  1.633405  0.570205\n",
       "3  1.546991  0.586735  1.294053  0.651113\n",
       "4  1.179188  0.682568  1.131423  0.675942"
      ]
     },
     "execution_count": 10,
     "metadata": {},
     "output_type": "execute_result"
    }
   ],
   "source": [
    "train_history = pd.DataFrame(train.history)\n",
    "train_history.head()"
   ]
  },
  {
   "cell_type": "code",
   "execution_count": 11,
   "id": "1f0ebcd7",
   "metadata": {
    "ExecuteTime": {
     "end_time": "2021-07-24T11:03:18.005400Z",
     "start_time": "2021-07-24T11:03:17.623449Z"
    }
   },
   "outputs": [
    {
     "data": {
      "image/png": "[encoded data removed]",
      "text/plain": [
       "<Figure size 576x432 with 1 Axes>"
      ]
     },
     "metadata": {
      "needs_background": "light"
     },
     "output_type": "display_data"
    }
   ],
   "source": [
    "plt.figure(figsize=(8, 6))\n",
    "plt.title(\"Training\")\n",
    "for label in train_history.keys():\n",
    "    plt.plot(train_history[label], label=label, linestyle='--' if label[:3]=='val' else '-')\n",
    "plt.xlabel('Epochs')\n",
    "plt.legend()\n",
    "plt.margins(x=0, y=0)\n",
    "plt.tight_layout()\n",
    "plt.show()"
   ]
  }
 ],
 "metadata": {
  "kernelspec": {
   "display_name": "Python 3 (ipykernel)",
   "language": "python",
   "name": "python3"
  },
  "language_info": {
   "codemirror_mode": {
    "name": "ipython",
    "version": 3
   },
   "file_extension": ".py",
   "mimetype": "text/x-python",
   "name": "python",
   "nbconvert_exporter": "python",
   "pygments_lexer": "ipython3",
   "version": "3.9.6"
  },
  "toc": {
   "base_numbering": 1,
   "nav_menu": {},
   "number_sections": true,
   "sideBar": true,
   "skip_h1_title": false,
   "title_cell": "Table of Contents",
   "title_sidebar": "Contents",
   "toc_cell": false,
   "toc_position": {},
   "toc_section_display": true,
   "toc_window_display": false
  }
 },
 "nbformat": 4,
 "nbformat_minor": 5
}
