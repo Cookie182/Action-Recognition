{
 "cells": [
  {
   "cell_type": "code",
   "execution_count": 1,
   "id": "5ddca6d0",
   "metadata": {
    "ExecuteTime": {
     "end_time": "2021-07-23T07:56:58.140030Z",
     "start_time": "2021-07-23T07:56:43.959723Z"
    },
    "scrolled": false
   },
   "outputs": [
    {
     "name": "stdout",
     "output_type": "stream",
     "text": [
      "Amount of labels -> 101 \n",
      "\n",
      "CricketShot has the most samples with 167 clips\n",
      "PlayingViolin has the least samples with 100 clips\n",
      "\n",
      "All actions have: 25 samples\n",
      "\n",
      "Top 5 actions with least clips per sample:\n",
      "                Total Clips  Samples  Clips per sample\n",
      "Labels                                               \n",
      "PlayingViolin          100       25              4.00\n",
      "PullUps                100       25              4.00\n",
      "Skijet                 100       25              4.00\n",
      "TaiChi                 100       25              4.00\n",
      "BreastStroke           101       25              4.04 \n",
      "\n",
      "Top 5 actions with most clips per sample\n",
      "               Total Clips  Samples  Clips per sample\n",
      "Labels                                              \n",
      "CricketShot           167       25              6.68\n",
      "TennisSwing           166       25              6.64\n",
      "HorseRiding           164       25              6.56\n",
      "PlayingCello          164       25              6.56\n",
      "PlayingDhol           164       25              6.56\n",
      "\n",
      "train/test data already created\n",
      "\n"
     ]
    }
   ],
   "source": [
    "import os\n",
    "os.environ['TF_CPP_MIN_LOG_LEVEL'] = '3'  # nopep8\n",
    "os.environ[\"TF_ENABLE_AUTO_MIXED_PRECISION\"] = '1'\n",
    "import tensorflow as tf\n",
    "from tensorflow import keras\n",
    "from tensorflow.keras import layers\n",
    "from tensorflow.keras.layers.experimental import preprocessing\n",
    "FILE_PATH = os.getcwd()\n",
    "import sys\n",
    "sys.path.append('\\\\'.join(FILE_PATH.split('\\\\')[:3]))\n",
    "import pandas as pd\n",
    "from matplotlib import pyplot as plt\n",
    "from trainvaltest import trainvaltest"
   ]
  },
  {
   "cell_type": "code",
   "execution_count": 2,
   "id": "607ea6f9",
   "metadata": {
    "ExecuteTime": {
     "end_time": "2021-07-23T07:58:51.919112Z",
     "start_time": "2021-07-23T07:56:58.142037Z"
    }
   },
   "outputs": [
    {
     "name": "stdout",
     "output_type": "stream",
     "text": [
      "\n",
      "Train:\n",
      "Found 376524 images belonging to 101 classes.\n",
      "Validation:\n",
      "Found 37609 images belonging to 101 classes.\n",
      "Test:\n",
      "Found 137772 images belonging to 101 classes.\n",
      "\n",
      "Input shape -> (224, 224, 3)\n",
      "\n"
     ]
    }
   ],
   "source": [
    "tf.config.experimental.set_memory_growth(tf.config.list_physical_devices('GPU')[0], True)\n",
    "\n",
    "MODEL_NAME = \"the_first_war.h5\"\n",
    "MODEL_PATH = os.path.join(FILE_PATH, MODEL_NAME)\n",
    "BATCH_SIZE = 16\n",
    "LABELS, INPUT_SHAPE, Train_Data, Val_Data, Test_Data = trainvaltest(BATCH_SIZE=BATCH_SIZE)\n",
    "EPOCHS = 20\n",
    "VERBOSE = 1"
   ]
  },
  {
   "cell_type": "code",
   "execution_count": 3,
   "id": "8083f159",
   "metadata": {
    "ExecuteTime": {
     "end_time": "2021-07-23T07:58:51.935116Z",
     "start_time": "2021-07-23T07:58:51.921112Z"
    }
   },
   "outputs": [],
   "source": [
    "class Preprocess(layers.Layer):\n",
    "    def __init__(self, factor=0.2, scale=1.0 / 255.0, flipmode='horizontal', seed=182):\n",
    "        \"\"\"Image preprocessing layer Block\n",
    "\n",
    "        Args:\n",
    "            factor (float, optional): factor to set for rotation, brightness, zoom and image shifting. Defaults to 0.2.\n",
    "            scale (float, optional): float to multiple all features by and normalize tensorflow. Defaults to 1.0/255.0.\n",
    "            seed (int, optional): set the seed value for all preprocessing layers. Defaults to 182\n",
    "        \"\"\"\n",
    "        super(Preprocess, self).__init__()\n",
    "        self.factor = factor\n",
    "        self.scale = scale\n",
    "        self.seed = seed\n",
    "        self.flipmode = flipmode\n",
    "\n",
    "        self.rescale = preprocessing.Rescaling(scale=self.scale)\n",
    "        self.randomrotate = preprocessing.RandomRotation(factor=self.factor, seed=self.seed)\n",
    "        self.randomzoom = preprocessing.RandomZoom(height_factor=self.factor, width_factor=self.factor, seed=self.seed)\n",
    "        self.shift = preprocessing.RandomTranslation(height_factor=self.factor, width_factor=self.factor, seed=self.seed)\n",
    "        self.flip = preprocessing.RandomFlip(mode=self.flipmode, seed=self.seed)\n",
    "\n",
    "    def get_config(self):\n",
    "        config = super().get_config().copy()\n",
    "        config.update({\n",
    "            'facotr': self.factor,\n",
    "            'scale': self.scale,\n",
    "            'seed': self.seed,\n",
    "            'flipmode': self.flipmode\n",
    "        })\n",
    "        return config    \n",
    "    \n",
    "    @tf.function\n",
    "    def call(self, image):\n",
    "        \"\"\"apply all preprocessing steps in\n",
    "\n",
    "        Args:\n",
    "            image (tensor): numerical data of image\n",
    "\n",
    "        Returns:\n",
    "            tensor: preprocessed data\n",
    "        \"\"\"\n",
    "        image = self.rescale(image)\n",
    "        image = self.randomrotate(image)\n",
    "        image = self.randomzoom(image)\n",
    "        image = self.shift(image)\n",
    "        image = self.flip(image)\n",
    "        return image"
   ]
  },
  {
   "cell_type": "code",
   "execution_count": 4,
   "id": "34b48a9b",
   "metadata": {
    "ExecuteTime": {
     "end_time": "2021-07-23T07:58:51.951120Z",
     "start_time": "2021-07-23T07:58:51.938118Z"
    }
   },
   "outputs": [],
   "source": [
    "def conv_layer(filters, kernel_size, padding, strides):\n",
    "    \"\"\"Creates a convolution layer for CNNBlock\n",
    "\n",
    "    Args:\n",
    "        filters (int): number of filters in conv layer\n",
    "        kernel_size (int): kernel size for conv layer\n",
    "        padding (str): either 'same' padding or 'valid' padding\n",
    "        strides (int): strides for conv layer\n",
    "\n",
    "    Returns:\n",
    "        conv layer: returns configured conv layer for CNNBlock\n",
    "    \"\"\"\n",
    "    layer = layers.Conv2D(filters=filters, kernel_size=kernel_size, padding=padding, strides=strides, activation=layers.ReLU())\n",
    "    return layer"
   ]
  },
  {
   "cell_type": "code",
   "execution_count": 5,
   "id": "04b4a250",
   "metadata": {
    "ExecuteTime": {
     "end_time": "2021-07-23T07:58:51.967125Z",
     "start_time": "2021-07-23T07:58:51.952120Z"
    }
   },
   "outputs": [],
   "source": [
    "class CNNBlock(layers.Layer):\n",
    "    def __init__(self, filters, triple=False, conv_kernel_size=(3, 3), conv_strides=(1, 1), pool_size=(2, 2), pool_strides=(2, 2), padding='same'):\n",
    "        \"\"\"block of either double (or triple) conv layers\n",
    "\n",
    "        Args:\n",
    "            filters (int): numbers of filters for the conv layers within this block\n",
    "            triple (bool, optional): whether this conv block contains double (2) or triple (3) conv layers. Defaults to False.\n",
    "            conv_strides (tuple, optional): tuple to set strides value for conv layers. Defaults to (1, 1).\n",
    "            conv_kernel_size (tuple, optional): kernel size for the conv layers in this block. Defaults to (3, 3).\n",
    "            pool_size (tuple, optional): pool size for pooling layer for this block. Defaults to (2, 2).\n",
    "            pool_strides (tuple, optional): strides value for pooling for this block. Defaults to (2, 2).\n",
    "            padding (str, optional): padding value of conv layers. Defaults to 'same'.\n",
    "        \"\"\"\n",
    "        super(CNNBlock, self).__init__()\n",
    "        self.triple = triple\n",
    "        self.pool_size = pool_size\n",
    "        self.pool_strides = pool_strides\n",
    "        self.filters = filters\n",
    "        self.conv_kernel_size = conv_kernel_size\n",
    "        self.conv_strides = conv_strides\n",
    "        self.padding = padding\n",
    "\n",
    "        self.conv1 = conv_layer(filters=self.filters, kernel_size=self.conv_kernel_size, padding=self.padding, strides=self.conv_strides)\n",
    "        self.conv2 = conv_layer(filters=self.filters, kernel_size=self.conv_kernel_size, padding=self.padding, strides=self.conv_strides)\n",
    "        if self.triple == True:\n",
    "            self.conv3 = conv_layer(filters=self.filters, kernel_size=self.conv_kernel_size, padding=self.padding, strides=self.conv_strides)\n",
    "        self.bn = layers.BatchNormalization()\n",
    "        self.avgpooling = layers.AveragePooling2D(pool_size=self.pool_size, strides=self.pool_strides)\n",
    "        \n",
    "    def get_config(self):\n",
    "        config = super().get_config().copy()\n",
    "        config.update({\n",
    "            'triple': self.triple,\n",
    "            'pool_size': self.pool_size,\n",
    "            'pool_strides': self.pool_strides,\n",
    "            'filters': self.filters,\n",
    "            'conv_kernel_size': self.conv_kernel_size,\n",
    "            'conv_strides': self.conv_strides,\n",
    "            'padding': self.padding\n",
    "        })\n",
    "        return config\n",
    "\n",
    "    def __call__(self, input_tensor, training=False):\n",
    "        \"\"\"forward propagation\n",
    "\n",
    "        Args:\n",
    "            input_tensor (input_tensor): input tensor for this data point\n",
    "            training (bool): whether to set batch normalization to training or not\n",
    "\n",
    "        Returns:\n",
    "            tensor: output of the current CNN block\n",
    "        \"\"\"\n",
    "        x = self.conv1(input_tensor)\n",
    "        x = self.conv2(x)\n",
    "        if self.triple == True:\n",
    "            x = self.conv3(x)\n",
    "        x = self.bn(x, training=training)\n",
    "        x = self.avgpooling(x)\n",
    "        return x"
   ]
  },
  {
   "cell_type": "code",
   "execution_count": 6,
   "id": "ce66f7ca",
   "metadata": {
    "ExecuteTime": {
     "end_time": "2021-07-23T07:58:51.982633Z",
     "start_time": "2021-07-23T07:58:51.968125Z"
    }
   },
   "outputs": [],
   "source": [
    "class Model(keras.Model):\n",
    "    def __init__(self, n_labels):\n",
    "        \"\"\"model build via subclassing\n",
    "\n",
    "        Args:\n",
    "            n_labels (int): amount of labels for the model to predict\n",
    "        \"\"\"\n",
    "        super(Model, self).__init__()\n",
    "        self.n_labels = n_labels\n",
    "\n",
    "        self.preprocess = Preprocess()\n",
    "        self.cnnblock0 = CNNBlock(filters=64)\n",
    "        self.cnnblock1 = CNNBlock(filters=64)\n",
    "        self.cnnblock2 = CNNBlock(filters=128)\n",
    "        self.cnnblock3 = CNNBlock(filters=256, triple=True)\n",
    "        self.cnnblock4 = CNNBlock(filters=512, triple=True)\n",
    "        self.cnnblock5 = CNNBlock(filters=512, triple=True)\n",
    "        self.globalmaxpooling = layers.GlobalMaxPooling2D()\n",
    "        self.flatten = layers.Flatten()\n",
    "        self.dropout = layers.Dropout(0.1)\n",
    "        self.fc = layers.Dense(2048, activation=layers.ReLU())\n",
    "        self.dropout2 = layers.Dropout(0.1)\n",
    "        self.fc2 = layers.Dense(1024, activation=layers.ReLU())\n",
    "        self.outputs = layers.Dense(self.n_labels)\n",
    "\n",
    "    @tf.function\n",
    "    def call(self, input_tensor):\n",
    "        \"\"\"forward propagation for the entire model between each layer\n",
    "\n",
    "        Args:\n",
    "            input_tensor (tensor): output of the previous layer\n",
    "\n",
    "        Returns:\n",
    "            tensor: output of the previous tensor\n",
    "        \"\"\"\n",
    "        x = self.preprocess(input_tensor)\n",
    "        x = self.cnnblock0(x)\n",
    "        x = self.cnnblock1(x)\n",
    "        x = self.cnnblock2(x)\n",
    "        x = self.cnnblock3(x)\n",
    "        x = self.cnnblock4(x)\n",
    "        x = self.cnnblock5(x)\n",
    "        x = self.globalmaxpooling(x)\n",
    "        x = self.flatten(x)\n",
    "        x = self.dropout(x)\n",
    "        x = self.fc(x)\n",
    "        x = self.dropout2(x)\n",
    "        x = self.fc2(x)\n",
    "        x = self.outputs(x)\n",
    "        return x"
   ]
  },
  {
   "cell_type": "code",
   "execution_count": 7,
   "id": "67bc8770",
   "metadata": {
    "ExecuteTime": {
     "end_time": "2021-07-23T07:58:51.997760Z",
     "start_time": "2021-07-23T07:58:51.984480Z"
    }
   },
   "outputs": [],
   "source": [
    "def create_model(inp_shape, n_labels, model_name):\n",
    "    \"\"\"creates model (input and output), name layers and compile\n",
    "\n",
    "    Args:\n",
    "        inp_shape (tuple(int)): tuple of ints, input shape\n",
    "        n_labels (int): number of labels for last layer\n",
    "        model_name (str): name of model\n",
    "        layer_names (list(str)): list of names for each layer in model\n",
    "\n",
    "    Returns:\n",
    "        model: named and configured model with input/output and named layers\n",
    "    \"\"\"\n",
    "    model = keras.Sequential(Model(n_labels=n_labels).layers)    \n",
    "    model._name = model_name\n",
    "    model.build(input_shape=(None, *inp_shape))\n",
    "\n",
    "    model.compile(loss=keras.losses.SparseCategoricalCrossentropy(from_logits=True),\n",
    "                  optimizer=keras.optimizers.Adam(learning_rate=1e-4),\n",
    "                  metrics=[keras.metrics.SparseCategoricalAccuracy(name='acc')])\n",
    "\n",
    "    model.summary()\n",
    "    return model"
   ]
  },
  {
   "cell_type": "code",
   "execution_count": 8,
   "id": "9f421333",
   "metadata": {
    "ExecuteTime": {
     "end_time": "2021-07-23T07:58:53.190290Z",
     "start_time": "2021-07-23T07:58:51.999762Z"
    }
   },
   "outputs": [
    {
     "name": "stdout",
     "output_type": "stream",
     "text": [
      "Model: \"the_first_war.h5\"\n",
      "_________________________________________________________________\n",
      "Layer (type)                 Output Shape              Param #   \n",
      "=================================================================\n",
      "preprocess (Preprocess)      (None, 224, 224, 3)       0         \n",
      "_________________________________________________________________\n",
      "conv2d (Conv2D)              (None, 224, 224, 64)      1792      \n",
      "_________________________________________________________________\n",
      "conv2d_1 (Conv2D)            (None, 224, 224, 64)      36928     \n",
      "_________________________________________________________________\n",
      "batch_normalization (BatchNo (None, 224, 224, 64)      256       \n",
      "_________________________________________________________________\n",
      "average_pooling2d (AveragePo (None, 112, 112, 64)      0         \n",
      "_________________________________________________________________\n",
      "conv2d_2 (Conv2D)            (None, 112, 112, 64)      36928     \n",
      "_________________________________________________________________\n",
      "conv2d_3 (Conv2D)            (None, 112, 112, 64)      36928     \n",
      "_________________________________________________________________\n",
      "batch_normalization_1 (Batch (None, 112, 112, 64)      256       \n",
      "_________________________________________________________________\n",
      "average_pooling2d_1 (Average (None, 56, 56, 64)        0         \n",
      "_________________________________________________________________\n",
      "conv2d_4 (Conv2D)            (None, 56, 56, 128)       73856     \n",
      "_________________________________________________________________\n",
      "conv2d_5 (Conv2D)            (None, 56, 56, 128)       147584    \n",
      "_________________________________________________________________\n",
      "batch_normalization_2 (Batch (None, 56, 56, 128)       512       \n",
      "_________________________________________________________________\n",
      "average_pooling2d_2 (Average (None, 28, 28, 128)       0         \n",
      "_________________________________________________________________\n",
      "conv2d_6 (Conv2D)            (None, 28, 28, 256)       295168    \n",
      "_________________________________________________________________\n",
      "conv2d_7 (Conv2D)            (None, 28, 28, 256)       590080    \n",
      "_________________________________________________________________\n",
      "conv2d_8 (Conv2D)            (None, 28, 28, 256)       590080    \n",
      "_________________________________________________________________\n",
      "batch_normalization_3 (Batch (None, 28, 28, 256)       1024      \n",
      "_________________________________________________________________\n",
      "average_pooling2d_3 (Average (None, 14, 14, 256)       0         \n",
      "_________________________________________________________________\n",
      "conv2d_9 (Conv2D)            (None, 14, 14, 512)       1180160   \n",
      "_________________________________________________________________\n",
      "conv2d_10 (Conv2D)           (None, 14, 14, 512)       2359808   \n",
      "_________________________________________________________________\n",
      "conv2d_11 (Conv2D)           (None, 14, 14, 512)       2359808   \n",
      "_________________________________________________________________\n",
      "batch_normalization_4 (Batch (None, 14, 14, 512)       2048      \n",
      "_________________________________________________________________\n",
      "average_pooling2d_4 (Average (None, 7, 7, 512)         0         \n",
      "_________________________________________________________________\n",
      "conv2d_12 (Conv2D)           (None, 7, 7, 512)         2359808   \n",
      "_________________________________________________________________\n",
      "conv2d_13 (Conv2D)           (None, 7, 7, 512)         2359808   \n",
      "_________________________________________________________________\n",
      "conv2d_14 (Conv2D)           (None, 7, 7, 512)         2359808   \n",
      "_________________________________________________________________\n",
      "batch_normalization_5 (Batch (None, 7, 7, 512)         2048      \n",
      "_________________________________________________________________\n",
      "average_pooling2d_5 (Average (None, 3, 3, 512)         0         \n",
      "_________________________________________________________________\n",
      "global_max_pooling2d (Global (None, 512)               0         \n",
      "_________________________________________________________________\n",
      "flatten (Flatten)            (None, 512)               0         \n",
      "_________________________________________________________________\n",
      "dropout (Dropout)            (None, 512)               0         \n",
      "_________________________________________________________________\n",
      "dense (Dense)                (None, 2048)              1050624   \n",
      "_________________________________________________________________\n",
      "dropout_1 (Dropout)          (None, 2048)              0         \n",
      "_________________________________________________________________\n",
      "dense_1 (Dense)              (None, 1024)              2098176   \n",
      "_________________________________________________________________\n",
      "dense_2 (Dense)              (None, 101)               103525    \n",
      "=================================================================\n",
      "Total params: 18,047,013\n",
      "Trainable params: 18,043,941\n",
      "Non-trainable params: 3,072\n",
      "_________________________________________________________________\n"
     ]
    }
   ],
   "source": [
    "model = create_model(inp_shape=INPUT_SHAPE, n_labels=LABELS, model_name=MODEL_NAME)\n",
    "earlystopping = keras.callbacks.EarlyStopping(monitor='val_acc', patience=3, verbose=VERBOSE)\n",
    "best_checkpoint = keras.callbacks.ModelCheckpoint(filepath=MODEL_PATH,\n",
    "                                                  monitor='val_acc',\n",
    "                                                  save_best_only=True,\n",
    "                                                  save_freq='epoch',\n",
    "                                                  verbose=VERBOSE)\n",
    "callbacks = [earlystopping, best_checkpoint]"
   ]
  },
  {
   "cell_type": "code",
   "execution_count": 9,
   "id": "c827df7b",
   "metadata": {
    "ExecuteTime": {
     "end_time": "2021-07-23T15:02:18.712570Z",
     "start_time": "2021-07-23T07:58:53.191291Z"
    },
    "scrolled": false
   },
   "outputs": [
    {
     "name": "stdout",
     "output_type": "stream",
     "text": [
      "Epoch 1/20\n",
      "1470/1470 [==============================] - 1246s 841ms/step - loss: 3.7594 - acc: 0.1374 - val_loss: 3.6680 - val_acc: 0.1622\n",
      "\n",
      "Epoch 00001: val_acc improved from -inf to 0.16224, saving model to D:\\Python\\Action Recognition\\the_first_war.h5\n",
      "Epoch 2/20\n",
      "1470/1470 [==============================] - 1342s 912ms/step - loss: 3.1070 - acc: 0.2399 - val_loss: 2.9150 - val_acc: 0.2992\n",
      "\n",
      "Epoch 00002: val_acc improved from 0.16224 to 0.29923, saving model to D:\\Python\\Action Recognition\\the_first_war.h5\n",
      "Epoch 3/20\n",
      "1470/1470 [==============================] - 1305s 887ms/step - loss: 2.6592 - acc: 0.3261 - val_loss: 2.6143 - val_acc: 0.3301\n",
      "\n",
      "Epoch 00003: val_acc improved from 0.29923 to 0.33005, saving model to D:\\Python\\Action Recognition\\the_first_war.h5\n",
      "Epoch 4/20\n",
      "1470/1470 [==============================] - 1281s 871ms/step - loss: 2.2552 - acc: 0.4148 - val_loss: 1.9748 - val_acc: 0.4970\n",
      "\n",
      "Epoch 00004: val_acc improved from 0.33005 to 0.49700, saving model to D:\\Python\\Action Recognition\\the_first_war.h5\n",
      "Epoch 5/20\n",
      "1470/1470 [==============================] - 1263s 858ms/step - loss: 1.9101 - acc: 0.4978 - val_loss: 1.6339 - val_acc: 0.5775\n",
      "\n",
      "Epoch 00005: val_acc improved from 0.49700 to 0.57748, saving model to D:\\Python\\Action Recognition\\the_first_war.h5\n",
      "Epoch 6/20\n",
      "1470/1470 [==============================] - 1337s 908ms/step - loss: 1.6169 - acc: 0.5742 - val_loss: 1.5458 - val_acc: 0.5788\n",
      "\n",
      "Epoch 00006: val_acc improved from 0.57748 to 0.57877, saving model to D:\\Python\\Action Recognition\\the_first_war.h5\n",
      "Epoch 7/20\n",
      "1470/1470 [==============================] - 1251s 850ms/step - loss: 1.3762 - acc: 0.6267 - val_loss: 1.2167 - val_acc: 0.6622\n",
      "\n",
      "Epoch 00007: val_acc improved from 0.57877 to 0.66224, saving model to D:\\Python\\Action Recognition\\the_first_war.h5\n",
      "Epoch 8/20\n",
      "1470/1470 [==============================] - 1291s 878ms/step - loss: 1.2020 - acc: 0.6714 - val_loss: 1.2983 - val_acc: 0.6494\n",
      "\n",
      "Epoch 00008: val_acc did not improve from 0.66224\n",
      "Epoch 9/20\n",
      "1470/1470 [==============================] - 1275s 867ms/step - loss: 1.0299 - acc: 0.7179 - val_loss: 1.0866 - val_acc: 0.6922\n",
      "\n",
      "Epoch 00009: val_acc improved from 0.66224 to 0.69221, saving model to D:\\Python\\Action Recognition\\the_first_war.h5\n",
      "Epoch 10/20\n",
      "1470/1470 [==============================] - 1277s 868ms/step - loss: 0.9084 - acc: 0.7486 - val_loss: 0.6503 - val_acc: 0.8181\n",
      "\n",
      "Epoch 00010: val_acc improved from 0.69221 to 0.81807, saving model to D:\\Python\\Action Recognition\\the_first_war.h5\n",
      "Epoch 11/20\n",
      "1470/1470 [==============================] - 1331s 902ms/step - loss: 0.8158 - acc: 0.7717 - val_loss: 0.7425 - val_acc: 0.7881\n",
      "\n",
      "Epoch 00011: val_acc did not improve from 0.81807\n",
      "Epoch 12/20\n",
      "1470/1470 [==============================] - 1318s 896ms/step - loss: 0.7407 - acc: 0.7928 - val_loss: 0.7040 - val_acc: 0.7954\n",
      "\n",
      "Epoch 00012: val_acc did not improve from 0.81807\n",
      "Epoch 13/20\n",
      "1470/1470 [==============================] - 1403s 954ms/step - loss: 0.6670 - acc: 0.8097 - val_loss: 0.4573 - val_acc: 0.8729\n",
      "\n",
      "Epoch 00013: val_acc improved from 0.81807 to 0.87286, saving model to D:\\Python\\Action Recognition\\the_first_war.h5\n",
      "Epoch 14/20\n",
      "1470/1470 [==============================] - 1444s 982ms/step - loss: 0.6120 - acc: 0.8254 - val_loss: 0.4537 - val_acc: 0.8703\n",
      "\n",
      "Epoch 00014: val_acc did not improve from 0.87286\n",
      "Epoch 15/20\n",
      "1470/1470 [==============================] - 1520s 1s/step - loss: 0.5460 - acc: 0.8452 - val_loss: 0.3670 - val_acc: 0.8891\n",
      "\n",
      "Epoch 00015: val_acc improved from 0.87286 to 0.88913, saving model to D:\\Python\\Action Recognition\\the_first_war.h5\n",
      "Epoch 16/20\n",
      "1470/1470 [==============================] - 1389s 944ms/step - loss: 0.4920 - acc: 0.8575 - val_loss: 0.3670 - val_acc: 0.8934\n",
      "\n",
      "Epoch 00016: val_acc improved from 0.88913 to 0.89341, saving model to D:\\Python\\Action Recognition\\the_first_war.h5\n",
      "Epoch 17/20\n",
      "1470/1470 [==============================] - 1425s 969ms/step - loss: 0.4721 - acc: 0.8646 - val_loss: 0.4020 - val_acc: 0.8878\n",
      "\n",
      "Epoch 00017: val_acc did not improve from 0.89341\n",
      "Epoch 18/20\n",
      "1470/1470 [==============================] - 1346s 916ms/step - loss: 0.4546 - acc: 0.8711 - val_loss: 0.5280 - val_acc: 0.8497\n",
      "\n",
      "Epoch 00018: val_acc did not improve from 0.89341\n",
      "Epoch 19/20\n",
      "1470/1470 [==============================] - 1340s 912ms/step - loss: 0.4116 - acc: 0.8821 - val_loss: 0.4015 - val_acc: 0.8771\n",
      "\n",
      "Epoch 00019: val_acc did not improve from 0.89341\n",
      "Epoch 00019: early stopping\n"
     ]
    }
   ],
   "source": [
    "train = model.fit(Train_Data,\n",
    "                  epochs=EPOCHS,\n",
    "                  verbose=VERBOSE,\n",
    "                  steps_per_epoch=len(Train_Data) // BATCH_SIZE,\n",
    "                  callbacks=callbacks,\n",
    "                  validation_data=Val_Data,\n",
    "                  validation_steps=len(Val_Data) // BATCH_SIZE,\n",
    "                  use_multiprocessing=True,\n",
    "                  workers=-1)"
   ]
  },
  {
   "cell_type": "code",
   "execution_count": 10,
   "id": "3db94bdf",
   "metadata": {
    "ExecuteTime": {
     "end_time": "2021-07-23T15:12:57.926819Z",
     "start_time": "2021-07-23T15:02:18.735576Z"
    }
   },
   "outputs": [
    {
     "name": "stdout",
     "output_type": "stream",
     "text": [
      "538/538 [==============================] - 638s 1s/step - loss: 5.2189 - acc: 0.2469\n"
     ]
    }
   ],
   "source": [
    "test = model.evaluate(Test_Data, steps=len(Test_Data) // BATCH_SIZE, workers=-1, use_multiprocessing=True, verbose=VERBOSE)"
   ]
  },
  {
   "cell_type": "code",
   "execution_count": 11,
   "id": "9ca290e0",
   "metadata": {
    "ExecuteTime": {
     "end_time": "2021-07-23T15:12:58.084694Z",
     "start_time": "2021-07-23T15:12:57.928819Z"
    }
   },
   "outputs": [
    {
     "data": {
      "text/html": [
       "<div>\n",
       "<style scoped>\n",
       "    .dataframe tbody tr th:only-of-type {\n",
       "        vertical-align: middle;\n",
       "    }\n",
       "\n",
       "    .dataframe tbody tr th {\n",
       "        vertical-align: top;\n",
       "    }\n",
       "\n",
       "    .dataframe thead th {\n",
       "        text-align: right;\n",
       "    }\n",
       "</style>\n",
       "<table border=\"1\" class=\"dataframe\">\n",
       "  <thead>\n",
       "    <tr style=\"text-align: right;\">\n",
       "      <th></th>\n",
       "      <th>loss</th>\n",
       "      <th>acc</th>\n",
       "      <th>val_loss</th>\n",
       "      <th>val_acc</th>\n",
       "    </tr>\n",
       "  </thead>\n",
       "  <tbody>\n",
       "    <tr>\n",
       "      <th>0</th>\n",
       "      <td>3.759389</td>\n",
       "      <td>0.137415</td>\n",
       "      <td>3.667988</td>\n",
       "      <td>0.162243</td>\n",
       "    </tr>\n",
       "    <tr>\n",
       "      <th>1</th>\n",
       "      <td>3.106953</td>\n",
       "      <td>0.239922</td>\n",
       "      <td>2.915003</td>\n",
       "      <td>0.299229</td>\n",
       "    </tr>\n",
       "    <tr>\n",
       "      <th>2</th>\n",
       "      <td>2.659169</td>\n",
       "      <td>0.326063</td>\n",
       "      <td>2.614257</td>\n",
       "      <td>0.330051</td>\n",
       "    </tr>\n",
       "    <tr>\n",
       "      <th>3</th>\n",
       "      <td>2.255226</td>\n",
       "      <td>0.414753</td>\n",
       "      <td>1.974832</td>\n",
       "      <td>0.497003</td>\n",
       "    </tr>\n",
       "    <tr>\n",
       "      <th>4</th>\n",
       "      <td>1.910087</td>\n",
       "      <td>0.497832</td>\n",
       "      <td>1.633926</td>\n",
       "      <td>0.577483</td>\n",
       "    </tr>\n",
       "  </tbody>\n",
       "</table>\n",
       "</div>"
      ],
      "text/plain": [
       "       loss       acc  val_loss   val_acc\n",
       "0  3.759389  0.137415  3.667988  0.162243\n",
       "1  3.106953  0.239922  2.915003  0.299229\n",
       "2  2.659169  0.326063  2.614257  0.330051\n",
       "3  2.255226  0.414753  1.974832  0.497003\n",
       "4  1.910087  0.497832  1.633926  0.577483"
      ]
     },
     "execution_count": 11,
     "metadata": {},
     "output_type": "execute_result"
    }
   ],
   "source": [
    "train_history = pd.DataFrame(train.history)\n",
    "train_history.head()"
   ]
  },
  {
   "cell_type": "code",
   "execution_count": 12,
   "id": "06c3ac45",
   "metadata": {
    "ExecuteTime": {
     "end_time": "2021-07-23T15:12:58.459173Z",
     "start_time": "2021-07-23T15:12:58.086717Z"
    }
   },
   "outputs": [
    {
     "data": {
      "image/png": "[encoded data removed]",
      "text/plain": [
       "<Figure size 576x432 with 1 Axes>"
      ]
     },
     "metadata": {
      "needs_background": "light"
     },
     "output_type": "display_data"
    }
   ],
   "source": [
    "plt.figure(figsize=(8, 6))\n",
    "plt.title(\"Training\")\n",
    "def plotline(label):\n",
    "    return plt.plot(train_history[label], label=label, linestyle='--' if label[:3]=='val' else '-')\n",
    "\n",
    "for label in train_history.keys():\n",
    "    plotline(label=label)\n",
    "plt.xlabel('Epochs')\n",
    "plt.legend()\n",
    "plt.margins(x=0, y=0)\n",
    "plt.tight_layout()\n",
    "plt.show()"
   ]
  },
  {
   "cell_type": "code",
   "execution_count": null,
   "id": "00e1874b",
   "metadata": {},
   "outputs": [],
   "source": []
  }
 ],
 "metadata": {
  "kernelspec": {
   "display_name": "Python 3 (ipykernel)",
   "language": "python",
   "name": "python3"
  },
  "language_info": {
   "codemirror_mode": {
    "name": "ipython",
    "version": 3
   },
   "file_extension": ".py",
   "mimetype": "text/x-python",
   "name": "python",
   "nbconvert_exporter": "python",
   "pygments_lexer": "ipython3",
   "version": "3.9.6"
  },
  "toc": {
   "base_numbering": 1,
   "nav_menu": {},
   "number_sections": true,
   "sideBar": true,
   "skip_h1_title": false,
   "title_cell": "Table of Contents",
   "title_sidebar": "Contents",
   "toc_cell": false,
   "toc_position": {},
   "toc_section_display": true,
   "toc_window_display": false
  }
 },
 "nbformat": 4,
 "nbformat_minor": 5
}
