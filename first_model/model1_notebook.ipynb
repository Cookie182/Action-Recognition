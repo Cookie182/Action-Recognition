{
 "cells": [
  {
   "cell_type": "code",
   "execution_count": 18,
   "id": "5ddca6d0",
   "metadata": {
    "ExecuteTime": {
     "end_time": "2021-07-16T12:51:05.869536Z",
     "start_time": "2021-07-16T12:51:05.852000Z"
    },
    "scrolled": false
   },
   "outputs": [],
   "source": [
    "import os\n",
    "os.environ['TF_CPP_MIN_LOG_LEVEL'] = '3'  # nopep8\n",
    "os.environ[\"TF_ENABLE_AUTO_MIXED_PRECISION\"] = '1'\n",
    "import tensorflow as tf\n",
    "from tensorflow import keras\n",
    "from tensorflow.keras import layers\n",
    "from tensorflow.keras.layers.experimental import preprocessing\n",
    "FILE_PATH = os.getcwd()\n",
    "import sys\n",
    "sys.path.append('\\\\'.join(FILE_PATH.split('\\\\')[:3]))\n",
    "import pandas as pd\n",
    "from matplotlib import pyplot as plt\n",
    "from trainvaltest import trainvaltest"
   ]
  },
  {
   "cell_type": "code",
   "execution_count": 2,
   "id": "607ea6f9",
   "metadata": {
    "ExecuteTime": {
     "end_time": "2021-07-16T05:59:10.978960Z",
     "start_time": "2021-07-16T05:55:36.838803Z"
    }
   },
   "outputs": [
    {
     "name": "stdout",
     "output_type": "stream",
     "text": [
      "\n",
      "Train:\n",
      "Found 205310 images belonging to 101 classes.\n",
      "Validation:\n",
      "Found 22758 images belonging to 101 classes.\n",
      "Test:\n",
      "Found 20267 images belonging to 101 classes.\n",
      "\n",
      "Input shape -> (240, 240, 3) \n",
      "\n"
     ]
    }
   ],
   "source": [
    "tf.config.experimental.set_memory_growth(tf.config.list_physical_devices('GPU')[0], True)\n",
    "\n",
    "MODEL_NAME = \"the_first_war\"\n",
    "MODEL_PATH = f\"{MODEL_NAME}\"\n",
    "BATCH_SIZE = 16\n",
    "LABELS, INPUT_SHAPE, Train_Data, Val_Data, Test_Data = trainvaltest(BATCH_SIZE=BATCH_SIZE)\n",
    "EPOCHS = 30\n",
    "VERBOSE = 1"
   ]
  },
  {
   "cell_type": "code",
   "execution_count": 3,
   "id": "8083f159",
   "metadata": {
    "ExecuteTime": {
     "end_time": "2021-07-16T05:59:10.994951Z",
     "start_time": "2021-07-16T05:59:10.980955Z"
    }
   },
   "outputs": [],
   "source": [
    "class Preprocess(layers.Layer):\n",
    "    def __init__(self, factor=0.2, scale=1.0 / 255.0, flipmode='horizontal', seed=182):\n",
    "        \"\"\"Image preprocessing layer Block\n",
    "\n",
    "        Args:\n",
    "            factor (float, optional): factor to set for rotation, brightness, zoom and image shifting. Defaults to 0.2.\n",
    "            scale (float, optional): float to multiple all features by and normalize tensorflow. Defaults to 1.0/255.0.\n",
    "            seed (int, optional): set the seed value for all preprocessing layers. Defaults to 182\n",
    "        \"\"\"\n",
    "        super(Preprocess, self).__init__()\n",
    "        self.factor = factor\n",
    "        self.scale = scale\n",
    "        self.seed = seed\n",
    "        self.flipmode = flipmode\n",
    "\n",
    "        self.rescale = preprocessing.Rescaling(scale=self.scale)\n",
    "        self.randomrotate = preprocessing.RandomRotation(factor=self.factor, seed=self.seed)\n",
    "        self.randomzoom = preprocessing.RandomZoom(height_factor=self.factor, width_factor=self.factor, seed=self.seed)\n",
    "        self.shift = preprocessing.RandomTranslation(height_factor=self.factor, width_factor=self.factor, seed=self.seed)\n",
    "        self.flip = preprocessing.RandomFlip(mode=self.flipmode, seed=self.seed)\n",
    "\n",
    "    @tf.function\n",
    "    def call(self, image):\n",
    "        \"\"\"apply all preprocessing steps in\n",
    "\n",
    "        Args:\n",
    "            image (tensor): numerical data of image\n",
    "\n",
    "        Returns:\n",
    "            tensor: preprocessed data\n",
    "        \"\"\"\n",
    "        image = self.rescale(image)\n",
    "        image = self.randomrotate(image)\n",
    "        image = self.randomzoom(image)\n",
    "        image = self.shift(image)\n",
    "        image = self.flip(image)\n",
    "        return image"
   ]
  },
  {
   "cell_type": "code",
   "execution_count": 4,
   "id": "34b48a9b",
   "metadata": {
    "ExecuteTime": {
     "end_time": "2021-07-16T05:59:11.010377Z",
     "start_time": "2021-07-16T05:59:10.997946Z"
    }
   },
   "outputs": [],
   "source": [
    "def conv_layer(filters, kernel_size, padding, strides):\n",
    "    \"\"\"Creates a convolution layer for CNNBlock\n",
    "\n",
    "    Args:\n",
    "        filters (int): number of filters in conv layer\n",
    "        kernel_size (int): kernel size for conv layer\n",
    "        padding (str): either 'same' padding or 'valid' padding\n",
    "        strides (int): strides for conv layer\n",
    "\n",
    "    Returns:\n",
    "        conv layer: returns configured conv layer for CNNBlock\n",
    "    \"\"\"\n",
    "    layer = layers.Conv2D(filters=filters, kernel_size=kernel_size, padding=padding, strides=strides, activation=layers.ReLU())\n",
    "    return layer"
   ]
  },
  {
   "cell_type": "code",
   "execution_count": 5,
   "id": "04b4a250",
   "metadata": {
    "ExecuteTime": {
     "end_time": "2021-07-16T05:59:11.026280Z",
     "start_time": "2021-07-16T05:59:11.012380Z"
    }
   },
   "outputs": [],
   "source": [
    "class CNNBlock(layers.Layer):\n",
    "    def __init__(self, filters, triple=False, conv_kernel_size=(3, 3), conv_strides=(1, 1), pool_size=(2, 2), pool_strides=(2, 2), padding='same'):\n",
    "        \"\"\"block of either double (or triple) conv layers\n",
    "\n",
    "        Args:\n",
    "            filters (int): numbers of filters for the conv layers within this block\n",
    "            triple (bool, optional): whether this conv block contains double (2) or triple (3) conv layers. Defaults to False.\n",
    "            conv_strides (tuple, optional): tuple to set strides value for conv layers. Defaults to (1, 1).\n",
    "            conv_kernel_size (tuple, optional): kernel size for the conv layers in this block. Defaults to (3, 3).\n",
    "            pool_size (tuple, optional): pool size for pooling layer for this block. Defaults to (2, 2).\n",
    "            pool_strides (tuple, optional): strides value for pooling for this block. Defaults to (2, 2).\n",
    "            padding (str, optional): padding value of conv layers. Defaults to 'same'.\n",
    "        \"\"\"\n",
    "        super(CNNBlock, self).__init__()\n",
    "        self.triple = triple\n",
    "        self.pool_size = pool_size\n",
    "        self.pool_strides = pool_strides\n",
    "        self.filters = filters\n",
    "        self.conv_kernel_size = conv_kernel_size\n",
    "        self.conv_strides = conv_strides\n",
    "        self.padding = padding\n",
    "\n",
    "        self.conv1 = conv_layer(filters=self.filters, kernel_size=self.conv_kernel_size, padding=self.padding, strides=self.conv_strides)\n",
    "        self.conv2 = conv_layer(filters=self.filters, kernel_size=self.conv_kernel_size, padding=self.padding, strides=self.conv_strides)\n",
    "        if self.triple == True:\n",
    "            self.conv3 = conv_layer(filters=self.filters, kernel_size=self.conv_kernel_size, padding=self.padding, strides=self.conv_strides)\n",
    "        self.bn = layers.BatchNormalization()\n",
    "        self.maxpooling = layers.MaxPooling2D(pool_size=self.pool_size, strides=self.pool_strides)\n",
    "\n",
    "    @tf.function\n",
    "    def call(self, input_tensor, training=False):\n",
    "        \"\"\"forward propagation\n",
    "\n",
    "        Args:\n",
    "            input_tensor (input_tensor): input tensor for this data point\n",
    "            training (bool): whether to set batch normalization to training or not\n",
    "\n",
    "        Returns:\n",
    "            tensor: output of the current CNN block\n",
    "        \"\"\"\n",
    "        x = self.conv1(input_tensor)\n",
    "        x = self.conv2(x)\n",
    "        if self.triple == True:\n",
    "            x = self.conv3(x)\n",
    "        x = self.bn(x, training=training)\n",
    "        x = self.maxpooling(x)\n",
    "        return x"
   ]
  },
  {
   "cell_type": "code",
   "execution_count": 6,
   "id": "ce66f7ca",
   "metadata": {
    "ExecuteTime": {
     "end_time": "2021-07-16T05:59:11.042284Z",
     "start_time": "2021-07-16T05:59:11.028274Z"
    }
   },
   "outputs": [],
   "source": [
    "class Model(keras.Model):\n",
    "    def __init__(self, n_labels):\n",
    "        \"\"\"model build via subclassing\n",
    "\n",
    "        Args:\n",
    "            n_labels (int): amount of labels for the model to predict\n",
    "        \"\"\"\n",
    "        super(Model, self).__init__()\n",
    "        self.n_labels = n_labels\n",
    "\n",
    "        self.preprocess = Preprocess()\n",
    "        self.cnnblock1 = CNNBlock(filters=64)\n",
    "        self.cnnblock2 = CNNBlock(filters=128)\n",
    "        self.cnnblock3 = CNNBlock(filters=256, triple=True)\n",
    "        self.cnnblock4 = CNNBlock(filters=512, triple=True)\n",
    "        self.cnnblock5 = CNNBlock(filters=512, triple=True)\n",
    "        self.globalmaxpooling = layers.GlobalMaxPooling2D()\n",
    "        self.flatten = layers.Flatten()\n",
    "        self.fc = layers.Dense(4096, activation=layers.ReLU())\n",
    "        self.dropout = layers.Dropout(0.25)\n",
    "        self.outputs = layers.Dense(self.n_labels)\n",
    "\n",
    "    @tf.function\n",
    "    def call(self, input_tensor):\n",
    "        \"\"\"forward propagation for the entire model between each layer\n",
    "\n",
    "        Args:\n",
    "            input_tensor (tensor): output of the previous layer\n",
    "\n",
    "        Returns:\n",
    "            tensor: output of the previous tensor\n",
    "        \"\"\"\n",
    "        x = self.preprocess(input_tensor)\n",
    "        x = self.cnnblock1(x)\n",
    "        x = self.cnnblock2(x)\n",
    "        x = self.cnnblock3(x)\n",
    "        x = self.cnnblock4(x)\n",
    "        x = self.cnnblock5(x)\n",
    "        x = self.globalmaxpooling(x)\n",
    "        x = self.flatten(x)\n",
    "        x = self.dropout(x)\n",
    "        x = self.fc(x)\n",
    "        x = self.outputs(x)\n",
    "        return x"
   ]
  },
  {
   "cell_type": "code",
   "execution_count": 7,
   "id": "67bc8770",
   "metadata": {
    "ExecuteTime": {
     "end_time": "2021-07-16T05:59:11.058297Z",
     "start_time": "2021-07-16T05:59:11.045285Z"
    }
   },
   "outputs": [],
   "source": [
    "def create_model(inp_shape, n_labels, model_name, layer_names):\n",
    "    \"\"\"creates model (input and output), name layers and compile\n",
    "\n",
    "    Args:\n",
    "        inp_shape (tuple(int)): tuple of ints, input shape\n",
    "        n_labels (int): number of labels for last layer\n",
    "        model_name (str): name of model\n",
    "        layer_names (list(str)): list of names for each layer in model\n",
    "\n",
    "    Returns:\n",
    "        model: named and configured model with input/output and named layers\n",
    "    \"\"\"\n",
    "    model = Model(n_labels=n_labels)\n",
    "\n",
    "    for i, layer in enumerate(model.layers):\n",
    "        layer._name = layer_names[i]\n",
    "    model._name = model_name\n",
    "    model.build(input_shape=(None, *inp_shape))\n",
    "\n",
    "    model.compile(loss=keras.losses.SparseCategoricalCrossentropy(from_logits=True),\n",
    "                  optimizer=keras.optimizers.Adam(learning_rate=1e-4),\n",
    "                  metrics=[keras.metrics.SparseCategoricalAccuracy(name='acc')])\n",
    "\n",
    "    model.summary()\n",
    "    return model"
   ]
  },
  {
   "cell_type": "code",
   "execution_count": 8,
   "id": "9f421333",
   "metadata": {
    "ExecuteTime": {
     "end_time": "2021-07-16T05:59:13.228915Z",
     "start_time": "2021-07-16T05:59:11.060293Z"
    }
   },
   "outputs": [
    {
     "name": "stdout",
     "output_type": "stream",
     "text": [
      "Model: \"the_first_war\"\n",
      "_________________________________________________________________\n",
      "Layer (type)                 Output Shape              Param #   \n",
      "=================================================================\n",
      "Preprocessing (Preprocess)   multiple                  0         \n",
      "_________________________________________________________________\n",
      "CNNBlock64_Double (CNNBlock) multiple                  38976     \n",
      "_________________________________________________________________\n",
      "CNNBlock128_Double (CNNBlock multiple                  221952    \n",
      "_________________________________________________________________\n",
      "CNNBlock256_Triple (CNNBlock multiple                  1476352   \n",
      "_________________________________________________________________\n",
      "CNNBlock512_Triple_1 (CNNBlo multiple                  5901824   \n",
      "_________________________________________________________________\n",
      "CNNBlock512_Triple_2 (CNNBlo multiple                  7081472   \n",
      "_________________________________________________________________\n",
      "GlobalMaxPooling (GlobalMaxP multiple                  0         \n",
      "_________________________________________________________________\n",
      "Flatten (Flatten)            multiple                  0         \n",
      "_________________________________________________________________\n",
      "FC (Dense)                   multiple                  2101248   \n",
      "_________________________________________________________________\n",
      "Dropout (Dropout)            multiple                  0         \n",
      "_________________________________________________________________\n",
      "Outputs (Dense)              multiple                  413797    \n",
      "=================================================================\n",
      "Total params: 17,235,621\n",
      "Trainable params: 17,232,677\n",
      "Non-trainable params: 2,944\n",
      "_________________________________________________________________\n"
     ]
    }
   ],
   "source": [
    "layer_names = tuple([\n",
    "    \"Preprocessing\",\n",
    "    \"CNNBlock64_Double\",\n",
    "    \"CNNBlock128_Double\",\n",
    "    \"CNNBlock256_Triple\",\n",
    "    \"CNNBlock512_Triple_1\",\n",
    "    \"CNNBlock512_Triple_2\",\n",
    "    \"GlobalMaxPooling\",\n",
    "    \"Flatten\",\n",
    "    \"FC\",\n",
    "    \"Dropout\",\n",
    "    \"Outputs\"\n",
    "])\n",
    "\n",
    "model = create_model(inp_shape=INPUT_SHAPE, n_labels=LABELS, model_name=MODEL_NAME, layer_names=layer_names)\n",
    "earlystopping = keras.callbacks.EarlyStopping(monitor='val_acc', patience=3, verbose=VERBOSE)\n",
    "best_checkpoint = keras.callbacks.ModelCheckpoint(filepath=MODEL_PATH,\n",
    "                                                  monitor='val_acc',\n",
    "                                                  save_best_only=True,\n",
    "                                                  save_freq='epoch',\n",
    "                                                  verbose=VERBOSE)\n",
    "callbacks = [earlystopping, best_checkpoint]"
   ]
  },
  {
   "cell_type": "code",
   "execution_count": 9,
   "id": "c827df7b",
   "metadata": {
    "ExecuteTime": {
     "end_time": "2021-07-16T12:41:03.817101Z",
     "start_time": "2021-07-16T05:59:13.230898Z"
    },
    "scrolled": false
   },
   "outputs": [
    {
     "name": "stdout",
     "output_type": "stream",
     "text": [
      "Epoch 1/30\n",
      "802/802 [==============================] - 1030s 1s/step - loss: 4.1971 - acc: 0.0901 - val_loss: 4.0370 - val_acc: 0.1009\n",
      "\n",
      "Epoch 00001: val_acc improved from -inf to 0.10085, saving model to the_first_war\n"
     ]
    },
    {
     "name": "stderr",
     "output_type": "stream",
     "text": [
      "WARNING:absl:Found untraced functions such as conv2d_layer_call_and_return_conditional_losses, conv2d_layer_call_fn, conv2d_1_layer_call_and_return_conditional_losses, conv2d_1_layer_call_fn, conv2d_2_layer_call_and_return_conditional_losses while saving (showing 5 of 135). These functions will not be directly callable after loading.\n"
     ]
    },
    {
     "name": "stdout",
     "output_type": "stream",
     "text": [
      "INFO:tensorflow:Assets written to: the_first_war\\assets\n"
     ]
    },
    {
     "name": "stderr",
     "output_type": "stream",
     "text": [
      "INFO:tensorflow:Assets written to: the_first_war\\assets\n"
     ]
    },
    {
     "name": "stdout",
     "output_type": "stream",
     "text": [
      "Epoch 2/30\n",
      "802/802 [==============================] - 991s 1s/step - loss: 3.5964 - acc: 0.1576 - val_loss: 3.7893 - val_acc: 0.1328\n",
      "\n",
      "Epoch 00002: val_acc improved from 0.10085 to 0.13281, saving model to the_first_war\n"
     ]
    },
    {
     "name": "stderr",
     "output_type": "stream",
     "text": [
      "WARNING:absl:Found untraced functions such as conv2d_layer_call_and_return_conditional_losses, conv2d_layer_call_fn, conv2d_1_layer_call_and_return_conditional_losses, conv2d_1_layer_call_fn, conv2d_2_layer_call_and_return_conditional_losses while saving (showing 5 of 135). These functions will not be directly callable after loading.\n"
     ]
    },
    {
     "name": "stdout",
     "output_type": "stream",
     "text": [
      "INFO:tensorflow:Assets written to: the_first_war\\assets\n"
     ]
    },
    {
     "name": "stderr",
     "output_type": "stream",
     "text": [
      "INFO:tensorflow:Assets written to: the_first_war\\assets\n"
     ]
    },
    {
     "name": "stdout",
     "output_type": "stream",
     "text": [
      "Epoch 3/30\n",
      "802/802 [==============================] - 973s 1s/step - loss: 3.2841 - acc: 0.2104 - val_loss: 3.7418 - val_acc: 0.1506\n",
      "\n",
      "Epoch 00003: val_acc improved from 0.13281 to 0.15057, saving model to the_first_war\n"
     ]
    },
    {
     "name": "stderr",
     "output_type": "stream",
     "text": [
      "WARNING:absl:Found untraced functions such as conv2d_layer_call_and_return_conditional_losses, conv2d_layer_call_fn, conv2d_1_layer_call_and_return_conditional_losses, conv2d_1_layer_call_fn, conv2d_2_layer_call_and_return_conditional_losses while saving (showing 5 of 135). These functions will not be directly callable after loading.\n"
     ]
    },
    {
     "name": "stdout",
     "output_type": "stream",
     "text": [
      "INFO:tensorflow:Assets written to: the_first_war\\assets\n"
     ]
    },
    {
     "name": "stderr",
     "output_type": "stream",
     "text": [
      "INFO:tensorflow:Assets written to: the_first_war\\assets\n"
     ]
    },
    {
     "name": "stdout",
     "output_type": "stream",
     "text": [
      "Epoch 4/30\n",
      "802/802 [==============================] - 886s 1s/step - loss: 3.0302 - acc: 0.2559 - val_loss: 3.6912 - val_acc: 0.1499\n",
      "\n",
      "Epoch 00004: val_acc did not improve from 0.15057\n",
      "Epoch 5/30\n",
      "802/802 [==============================] - 943s 1s/step - loss: 2.8277 - acc: 0.2982 - val_loss: 3.5318 - val_acc: 0.1982\n",
      "\n",
      "Epoch 00005: val_acc improved from 0.15057 to 0.19815, saving model to the_first_war\n"
     ]
    },
    {
     "name": "stderr",
     "output_type": "stream",
     "text": [
      "WARNING:absl:Found untraced functions such as conv2d_layer_call_and_return_conditional_losses, conv2d_layer_call_fn, conv2d_1_layer_call_and_return_conditional_losses, conv2d_1_layer_call_fn, conv2d_2_layer_call_and_return_conditional_losses while saving (showing 5 of 135). These functions will not be directly callable after loading.\n"
     ]
    },
    {
     "name": "stdout",
     "output_type": "stream",
     "text": [
      "INFO:tensorflow:Assets written to: the_first_war\\assets\n"
     ]
    },
    {
     "name": "stderr",
     "output_type": "stream",
     "text": [
      "INFO:tensorflow:Assets written to: the_first_war\\assets\n"
     ]
    },
    {
     "name": "stdout",
     "output_type": "stream",
     "text": [
      "Epoch 6/30\n",
      "802/802 [==============================] - 867s 1s/step - loss: 2.5869 - acc: 0.3466 - val_loss: 3.4116 - val_acc: 0.2017\n",
      "\n",
      "Epoch 00006: val_acc improved from 0.19815 to 0.20170, saving model to the_first_war\n"
     ]
    },
    {
     "name": "stderr",
     "output_type": "stream",
     "text": [
      "WARNING:absl:Found untraced functions such as conv2d_layer_call_and_return_conditional_losses, conv2d_layer_call_fn, conv2d_1_layer_call_and_return_conditional_losses, conv2d_1_layer_call_fn, conv2d_2_layer_call_and_return_conditional_losses while saving (showing 5 of 135). These functions will not be directly callable after loading.\n"
     ]
    },
    {
     "name": "stdout",
     "output_type": "stream",
     "text": [
      "INFO:tensorflow:Assets written to: the_first_war\\assets\n"
     ]
    },
    {
     "name": "stderr",
     "output_type": "stream",
     "text": [
      "INFO:tensorflow:Assets written to: the_first_war\\assets\n"
     ]
    },
    {
     "name": "stdout",
     "output_type": "stream",
     "text": [
      "Epoch 7/30\n",
      "802/802 [==============================] - 848s 1s/step - loss: 2.3810 - acc: 0.3998 - val_loss: 3.4860 - val_acc: 0.2031\n",
      "\n",
      "Epoch 00007: val_acc improved from 0.20170 to 0.20312, saving model to the_first_war\n"
     ]
    },
    {
     "name": "stderr",
     "output_type": "stream",
     "text": [
      "WARNING:absl:Found untraced functions such as conv2d_layer_call_and_return_conditional_losses, conv2d_layer_call_fn, conv2d_1_layer_call_and_return_conditional_losses, conv2d_1_layer_call_fn, conv2d_2_layer_call_and_return_conditional_losses while saving (showing 5 of 135). These functions will not be directly callable after loading.\n"
     ]
    },
    {
     "name": "stdout",
     "output_type": "stream",
     "text": [
      "INFO:tensorflow:Assets written to: the_first_war\\assets\n"
     ]
    },
    {
     "name": "stderr",
     "output_type": "stream",
     "text": [
      "INFO:tensorflow:Assets written to: the_first_war\\assets\n"
     ]
    },
    {
     "name": "stdout",
     "output_type": "stream",
     "text": [
      "Epoch 8/30\n",
      "802/802 [==============================] - 818s 1s/step - loss: 2.2039 - acc: 0.4338 - val_loss: 3.3685 - val_acc: 0.2287\n",
      "\n",
      "Epoch 00008: val_acc improved from 0.20312 to 0.22869, saving model to the_first_war\n"
     ]
    },
    {
     "name": "stderr",
     "output_type": "stream",
     "text": [
      "WARNING:absl:Found untraced functions such as conv2d_layer_call_and_return_conditional_losses, conv2d_layer_call_fn, conv2d_1_layer_call_and_return_conditional_losses, conv2d_1_layer_call_fn, conv2d_2_layer_call_and_return_conditional_losses while saving (showing 5 of 135). These functions will not be directly callable after loading.\n"
     ]
    },
    {
     "name": "stdout",
     "output_type": "stream",
     "text": [
      "INFO:tensorflow:Assets written to: the_first_war\\assets\n"
     ]
    },
    {
     "name": "stderr",
     "output_type": "stream",
     "text": [
      "INFO:tensorflow:Assets written to: the_first_war\\assets\n"
     ]
    },
    {
     "name": "stdout",
     "output_type": "stream",
     "text": [
      "Epoch 9/30\n",
      "802/802 [==============================] - 801s 999ms/step - loss: 2.0033 - acc: 0.4836 - val_loss: 3.2972 - val_acc: 0.2507\n",
      "\n",
      "Epoch 00009: val_acc improved from 0.22869 to 0.25071, saving model to the_first_war\n"
     ]
    },
    {
     "name": "stderr",
     "output_type": "stream",
     "text": [
      "WARNING:absl:Found untraced functions such as conv2d_layer_call_and_return_conditional_losses, conv2d_layer_call_fn, conv2d_1_layer_call_and_return_conditional_losses, conv2d_1_layer_call_fn, conv2d_2_layer_call_and_return_conditional_losses while saving (showing 5 of 135). These functions will not be directly callable after loading.\n"
     ]
    },
    {
     "name": "stdout",
     "output_type": "stream",
     "text": [
      "INFO:tensorflow:Assets written to: the_first_war\\assets\n"
     ]
    },
    {
     "name": "stderr",
     "output_type": "stream",
     "text": [
      "INFO:tensorflow:Assets written to: the_first_war\\assets\n"
     ]
    },
    {
     "name": "stdout",
     "output_type": "stream",
     "text": [
      "Epoch 10/30\n",
      "802/802 [==============================] - 784s 977ms/step - loss: 1.8206 - acc: 0.5202 - val_loss: 3.1629 - val_acc: 0.2884\n",
      "\n",
      "Epoch 00010: val_acc improved from 0.25071 to 0.28835, saving model to the_first_war\n"
     ]
    },
    {
     "name": "stderr",
     "output_type": "stream",
     "text": [
      "WARNING:absl:Found untraced functions such as conv2d_layer_call_and_return_conditional_losses, conv2d_layer_call_fn, conv2d_1_layer_call_and_return_conditional_losses, conv2d_1_layer_call_fn, conv2d_2_layer_call_and_return_conditional_losses while saving (showing 5 of 135). These functions will not be directly callable after loading.\n"
     ]
    },
    {
     "name": "stdout",
     "output_type": "stream",
     "text": [
      "INFO:tensorflow:Assets written to: the_first_war\\assets\n"
     ]
    },
    {
     "name": "stderr",
     "output_type": "stream",
     "text": [
      "INFO:tensorflow:Assets written to: the_first_war\\assets\n"
     ]
    },
    {
     "name": "stdout",
     "output_type": "stream",
     "text": [
      "Epoch 11/30\n",
      "802/802 [==============================] - 791s 986ms/step - loss: 1.6516 - acc: 0.5639 - val_loss: 3.1422 - val_acc: 0.3047\n",
      "\n",
      "Epoch 00011: val_acc improved from 0.28835 to 0.30469, saving model to the_first_war\n"
     ]
    },
    {
     "name": "stderr",
     "output_type": "stream",
     "text": [
      "WARNING:absl:Found untraced functions such as conv2d_layer_call_and_return_conditional_losses, conv2d_layer_call_fn, conv2d_1_layer_call_and_return_conditional_losses, conv2d_1_layer_call_fn, conv2d_2_layer_call_and_return_conditional_losses while saving (showing 5 of 135). These functions will not be directly callable after loading.\n"
     ]
    },
    {
     "name": "stdout",
     "output_type": "stream",
     "text": [
      "INFO:tensorflow:Assets written to: the_first_war\\assets\n"
     ]
    },
    {
     "name": "stderr",
     "output_type": "stream",
     "text": [
      "INFO:tensorflow:Assets written to: the_first_war\\assets\n"
     ]
    },
    {
     "name": "stdout",
     "output_type": "stream",
     "text": [
      "Epoch 12/30\n",
      "802/802 [==============================] - 801s 999ms/step - loss: 1.4959 - acc: 0.6013 - val_loss: 3.1661 - val_acc: 0.3125\n",
      "\n",
      "Epoch 00012: val_acc improved from 0.30469 to 0.31250, saving model to the_first_war\n"
     ]
    },
    {
     "name": "stderr",
     "output_type": "stream",
     "text": [
      "WARNING:absl:Found untraced functions such as conv2d_layer_call_and_return_conditional_losses, conv2d_layer_call_fn, conv2d_1_layer_call_and_return_conditional_losses, conv2d_1_layer_call_fn, conv2d_2_layer_call_and_return_conditional_losses while saving (showing 5 of 135). These functions will not be directly callable after loading.\n"
     ]
    },
    {
     "name": "stdout",
     "output_type": "stream",
     "text": [
      "INFO:tensorflow:Assets written to: the_first_war\\assets\n"
     ]
    },
    {
     "name": "stderr",
     "output_type": "stream",
     "text": [
      "INFO:tensorflow:Assets written to: the_first_war\\assets\n"
     ]
    },
    {
     "name": "stdout",
     "output_type": "stream",
     "text": [
      "Epoch 13/30\n",
      "802/802 [==============================] - 786s 980ms/step - loss: 1.3463 - acc: 0.6407 - val_loss: 3.0755 - val_acc: 0.3445\n",
      "\n",
      "Epoch 00013: val_acc improved from 0.31250 to 0.34446, saving model to the_first_war\n"
     ]
    },
    {
     "name": "stderr",
     "output_type": "stream",
     "text": [
      "WARNING:absl:Found untraced functions such as conv2d_layer_call_and_return_conditional_losses, conv2d_layer_call_fn, conv2d_1_layer_call_and_return_conditional_losses, conv2d_1_layer_call_fn, conv2d_2_layer_call_and_return_conditional_losses while saving (showing 5 of 135). These functions will not be directly callable after loading.\n"
     ]
    },
    {
     "name": "stdout",
     "output_type": "stream",
     "text": [
      "INFO:tensorflow:Assets written to: the_first_war\\assets\n"
     ]
    },
    {
     "name": "stderr",
     "output_type": "stream",
     "text": [
      "INFO:tensorflow:Assets written to: the_first_war\\assets\n"
     ]
    },
    {
     "name": "stdout",
     "output_type": "stream",
     "text": [
      "Epoch 14/30\n",
      "802/802 [==============================] - 772s 963ms/step - loss: 1.2277 - acc: 0.6644 - val_loss: 3.2269 - val_acc: 0.3551\n",
      "\n",
      "Epoch 00014: val_acc improved from 0.34446 to 0.35511, saving model to the_first_war\n"
     ]
    },
    {
     "name": "stderr",
     "output_type": "stream",
     "text": [
      "WARNING:absl:Found untraced functions such as conv2d_layer_call_and_return_conditional_losses, conv2d_layer_call_fn, conv2d_1_layer_call_and_return_conditional_losses, conv2d_1_layer_call_fn, conv2d_2_layer_call_and_return_conditional_losses while saving (showing 5 of 135). These functions will not be directly callable after loading.\n"
     ]
    },
    {
     "name": "stdout",
     "output_type": "stream",
     "text": [
      "INFO:tensorflow:Assets written to: the_first_war\\assets\n"
     ]
    },
    {
     "name": "stderr",
     "output_type": "stream",
     "text": [
      "INFO:tensorflow:Assets written to: the_first_war\\assets\n"
     ]
    },
    {
     "name": "stdout",
     "output_type": "stream",
     "text": [
      "Epoch 15/30\n",
      "802/802 [==============================] - 785s 979ms/step - loss: 1.1166 - acc: 0.6972 - val_loss: 3.1025 - val_acc: 0.3523\n",
      "\n",
      "Epoch 00015: val_acc did not improve from 0.35511\n",
      "Epoch 16/30\n",
      "802/802 [==============================] - 759s 946ms/step - loss: 1.0346 - acc: 0.7181 - val_loss: 2.9536 - val_acc: 0.3892\n",
      "\n",
      "Epoch 00016: val_acc improved from 0.35511 to 0.38920, saving model to the_first_war\n"
     ]
    },
    {
     "name": "stderr",
     "output_type": "stream",
     "text": [
      "WARNING:absl:Found untraced functions such as conv2d_layer_call_and_return_conditional_losses, conv2d_layer_call_fn, conv2d_1_layer_call_and_return_conditional_losses, conv2d_1_layer_call_fn, conv2d_2_layer_call_and_return_conditional_losses while saving (showing 5 of 135). These functions will not be directly callable after loading.\n"
     ]
    },
    {
     "name": "stdout",
     "output_type": "stream",
     "text": [
      "INFO:tensorflow:Assets written to: the_first_war\\assets\n"
     ]
    },
    {
     "name": "stderr",
     "output_type": "stream",
     "text": [
      "INFO:tensorflow:Assets written to: the_first_war\\assets\n"
     ]
    },
    {
     "name": "stdout",
     "output_type": "stream",
     "text": [
      "Epoch 17/30\n",
      "802/802 [==============================] - 762s 951ms/step - loss: 0.9545 - acc: 0.7385 - val_loss: 2.9984 - val_acc: 0.4006\n",
      "\n",
      "Epoch 00017: val_acc improved from 0.38920 to 0.40057, saving model to the_first_war\n"
     ]
    },
    {
     "name": "stderr",
     "output_type": "stream",
     "text": [
      "WARNING:absl:Found untraced functions such as conv2d_layer_call_and_return_conditional_losses, conv2d_layer_call_fn, conv2d_1_layer_call_and_return_conditional_losses, conv2d_1_layer_call_fn, conv2d_2_layer_call_and_return_conditional_losses while saving (showing 5 of 135). These functions will not be directly callable after loading.\n"
     ]
    },
    {
     "name": "stdout",
     "output_type": "stream",
     "text": [
      "INFO:tensorflow:Assets written to: the_first_war\\assets\n"
     ]
    },
    {
     "name": "stderr",
     "output_type": "stream",
     "text": [
      "INFO:tensorflow:Assets written to: the_first_war\\assets\n"
     ]
    },
    {
     "name": "stdout",
     "output_type": "stream",
     "text": [
      "Epoch 18/30\n",
      "802/802 [==============================] - 745s 929ms/step - loss: 0.8703 - acc: 0.7573 - val_loss: 3.1520 - val_acc: 0.3899\n",
      "\n",
      "Epoch 00018: val_acc did not improve from 0.40057\n",
      "Epoch 19/30\n",
      "802/802 [==============================] - 727s 907ms/step - loss: 0.8018 - acc: 0.7766 - val_loss: 3.1308 - val_acc: 0.4055\n",
      "\n",
      "Epoch 00019: val_acc improved from 0.40057 to 0.40554, saving model to the_first_war\n"
     ]
    },
    {
     "name": "stderr",
     "output_type": "stream",
     "text": [
      "WARNING:absl:Found untraced functions such as conv2d_layer_call_and_return_conditional_losses, conv2d_layer_call_fn, conv2d_1_layer_call_and_return_conditional_losses, conv2d_1_layer_call_fn, conv2d_2_layer_call_and_return_conditional_losses while saving (showing 5 of 135). These functions will not be directly callable after loading.\n"
     ]
    },
    {
     "name": "stdout",
     "output_type": "stream",
     "text": [
      "INFO:tensorflow:Assets written to: the_first_war\\assets\n"
     ]
    },
    {
     "name": "stderr",
     "output_type": "stream",
     "text": [
      "INFO:tensorflow:Assets written to: the_first_war\\assets\n"
     ]
    },
    {
     "name": "stdout",
     "output_type": "stream",
     "text": [
      "Epoch 20/30\n",
      "802/802 [==============================] - 772s 963ms/step - loss: 0.7368 - acc: 0.7908 - val_loss: 2.9862 - val_acc: 0.4119\n",
      "\n",
      "Epoch 00020: val_acc improved from 0.40554 to 0.41193, saving model to the_first_war\n"
     ]
    },
    {
     "name": "stderr",
     "output_type": "stream",
     "text": [
      "WARNING:absl:Found untraced functions such as conv2d_layer_call_and_return_conditional_losses, conv2d_layer_call_fn, conv2d_1_layer_call_and_return_conditional_losses, conv2d_1_layer_call_fn, conv2d_2_layer_call_and_return_conditional_losses while saving (showing 5 of 135). These functions will not be directly callable after loading.\n"
     ]
    },
    {
     "name": "stdout",
     "output_type": "stream",
     "text": [
      "INFO:tensorflow:Assets written to: the_first_war\\assets\n"
     ]
    },
    {
     "name": "stderr",
     "output_type": "stream",
     "text": [
      "INFO:tensorflow:Assets written to: the_first_war\\assets\n"
     ]
    },
    {
     "name": "stdout",
     "output_type": "stream",
     "text": [
      "Epoch 21/30\n",
      "802/802 [==============================] - 746s 931ms/step - loss: 0.7184 - acc: 0.8030 - val_loss: 2.9634 - val_acc: 0.4460\n",
      "\n",
      "Epoch 00021: val_acc improved from 0.41193 to 0.44602, saving model to the_first_war\n"
     ]
    },
    {
     "name": "stderr",
     "output_type": "stream",
     "text": [
      "WARNING:absl:Found untraced functions such as conv2d_layer_call_and_return_conditional_losses, conv2d_layer_call_fn, conv2d_1_layer_call_and_return_conditional_losses, conv2d_1_layer_call_fn, conv2d_2_layer_call_and_return_conditional_losses while saving (showing 5 of 135). These functions will not be directly callable after loading.\n"
     ]
    },
    {
     "name": "stdout",
     "output_type": "stream",
     "text": [
      "INFO:tensorflow:Assets written to: the_first_war\\assets\n"
     ]
    },
    {
     "name": "stderr",
     "output_type": "stream",
     "text": [
      "INFO:tensorflow:Assets written to: the_first_war\\assets\n"
     ]
    },
    {
     "name": "stdout",
     "output_type": "stream",
     "text": [
      "Epoch 22/30\n",
      "802/802 [==============================] - 760s 948ms/step - loss: 0.6720 - acc: 0.8094 - val_loss: 3.0550 - val_acc: 0.4205\n",
      "\n",
      "Epoch 00022: val_acc did not improve from 0.44602\n",
      "Epoch 23/30\n",
      "802/802 [==============================] - 716s 893ms/step - loss: 0.6151 - acc: 0.8268 - val_loss: 2.7699 - val_acc: 0.4531\n",
      "\n",
      "Epoch 00023: val_acc improved from 0.44602 to 0.45312, saving model to the_first_war\n"
     ]
    },
    {
     "name": "stderr",
     "output_type": "stream",
     "text": [
      "WARNING:absl:Found untraced functions such as conv2d_layer_call_and_return_conditional_losses, conv2d_layer_call_fn, conv2d_1_layer_call_and_return_conditional_losses, conv2d_1_layer_call_fn, conv2d_2_layer_call_and_return_conditional_losses while saving (showing 5 of 135). These functions will not be directly callable after loading.\n"
     ]
    },
    {
     "name": "stdout",
     "output_type": "stream",
     "text": [
      "INFO:tensorflow:Assets written to: the_first_war\\assets\n"
     ]
    },
    {
     "name": "stderr",
     "output_type": "stream",
     "text": [
      "INFO:tensorflow:Assets written to: the_first_war\\assets\n"
     ]
    },
    {
     "name": "stdout",
     "output_type": "stream",
     "text": [
      "Epoch 24/30\n",
      "802/802 [==============================] - 718s 896ms/step - loss: 0.5875 - acc: 0.8333 - val_loss: 2.9252 - val_acc: 0.4538\n",
      "\n",
      "Epoch 00024: val_acc improved from 0.45312 to 0.45384, saving model to the_first_war\n"
     ]
    },
    {
     "name": "stderr",
     "output_type": "stream",
     "text": [
      "WARNING:absl:Found untraced functions such as conv2d_layer_call_and_return_conditional_losses, conv2d_layer_call_fn, conv2d_1_layer_call_and_return_conditional_losses, conv2d_1_layer_call_fn, conv2d_2_layer_call_and_return_conditional_losses while saving (showing 5 of 135). These functions will not be directly callable after loading.\n"
     ]
    },
    {
     "name": "stdout",
     "output_type": "stream",
     "text": [
      "INFO:tensorflow:Assets written to: the_first_war\\assets\n"
     ]
    },
    {
     "name": "stderr",
     "output_type": "stream",
     "text": [
      "INFO:tensorflow:Assets written to: the_first_war\\assets\n"
     ]
    },
    {
     "name": "stdout",
     "output_type": "stream",
     "text": [
      "Epoch 25/30\n",
      "802/802 [==============================] - 722s 901ms/step - loss: 0.5532 - acc: 0.8491 - val_loss: 2.8613 - val_acc: 0.4751\n",
      "\n",
      "Epoch 00025: val_acc improved from 0.45384 to 0.47514, saving model to the_first_war\n"
     ]
    },
    {
     "name": "stderr",
     "output_type": "stream",
     "text": [
      "WARNING:absl:Found untraced functions such as conv2d_layer_call_and_return_conditional_losses, conv2d_layer_call_fn, conv2d_1_layer_call_and_return_conditional_losses, conv2d_1_layer_call_fn, conv2d_2_layer_call_and_return_conditional_losses while saving (showing 5 of 135). These functions will not be directly callable after loading.\n"
     ]
    },
    {
     "name": "stdout",
     "output_type": "stream",
     "text": [
      "INFO:tensorflow:Assets written to: the_first_war\\assets\n"
     ]
    },
    {
     "name": "stderr",
     "output_type": "stream",
     "text": [
      "INFO:tensorflow:Assets written to: the_first_war\\assets\n"
     ]
    },
    {
     "name": "stdout",
     "output_type": "stream",
     "text": [
      "Epoch 26/30\n",
      "802/802 [==============================] - 729s 909ms/step - loss: 0.5341 - acc: 0.8459 - val_loss: 2.8844 - val_acc: 0.4801\n",
      "\n",
      "Epoch 00026: val_acc improved from 0.47514 to 0.48011, saving model to the_first_war\n"
     ]
    },
    {
     "name": "stderr",
     "output_type": "stream",
     "text": [
      "WARNING:absl:Found untraced functions such as conv2d_layer_call_and_return_conditional_losses, conv2d_layer_call_fn, conv2d_1_layer_call_and_return_conditional_losses, conv2d_1_layer_call_fn, conv2d_2_layer_call_and_return_conditional_losses while saving (showing 5 of 135). These functions will not be directly callable after loading.\n"
     ]
    },
    {
     "name": "stdout",
     "output_type": "stream",
     "text": [
      "INFO:tensorflow:Assets written to: the_first_war\\assets\n"
     ]
    },
    {
     "name": "stderr",
     "output_type": "stream",
     "text": [
      "INFO:tensorflow:Assets written to: the_first_war\\assets\n"
     ]
    },
    {
     "name": "stdout",
     "output_type": "stream",
     "text": [
      "Epoch 27/30\n",
      "802/802 [==============================] - 725s 904ms/step - loss: 0.4955 - acc: 0.8580 - val_loss: 2.9003 - val_acc: 0.4680\n",
      "\n",
      "Epoch 00027: val_acc did not improve from 0.48011\n",
      "Epoch 28/30\n",
      "802/802 [==============================] - 699s 871ms/step - loss: 0.4960 - acc: 0.8596 - val_loss: 2.8761 - val_acc: 0.4893\n",
      "\n",
      "Epoch 00028: val_acc improved from 0.48011 to 0.48935, saving model to the_first_war\n"
     ]
    },
    {
     "name": "stderr",
     "output_type": "stream",
     "text": [
      "WARNING:absl:Found untraced functions such as conv2d_layer_call_and_return_conditional_losses, conv2d_layer_call_fn, conv2d_1_layer_call_and_return_conditional_losses, conv2d_1_layer_call_fn, conv2d_2_layer_call_and_return_conditional_losses while saving (showing 5 of 135). These functions will not be directly callable after loading.\n"
     ]
    },
    {
     "name": "stdout",
     "output_type": "stream",
     "text": [
      "INFO:tensorflow:Assets written to: the_first_war\\assets\n"
     ]
    },
    {
     "name": "stderr",
     "output_type": "stream",
     "text": [
      "INFO:tensorflow:Assets written to: the_first_war\\assets\n"
     ]
    },
    {
     "name": "stdout",
     "output_type": "stream",
     "text": [
      "Epoch 29/30\n",
      "802/802 [==============================] - 712s 888ms/step - loss: 0.4604 - acc: 0.8691 - val_loss: 2.9551 - val_acc: 0.4723\n",
      "\n",
      "Epoch 00029: val_acc did not improve from 0.48935\n",
      "Epoch 30/30\n",
      "802/802 [==============================] - 685s 854ms/step - loss: 0.4389 - acc: 0.8746 - val_loss: 2.9222 - val_acc: 0.4879\n",
      "\n",
      "Epoch 00030: val_acc did not improve from 0.48935\n"
     ]
    }
   ],
   "source": [
    "train = model.fit(Train_Data,\n",
    "                  epochs=EPOCHS,\n",
    "                  verbose=VERBOSE,\n",
    "                  steps_per_epoch=len(Train_Data) // BATCH_SIZE,\n",
    "                  callbacks=callbacks,\n",
    "                  validation_data=Val_Data,\n",
    "                  validation_steps=len(Val_Data) // BATCH_SIZE,\n",
    "                  use_multiprocessing=True,\n",
    "                  workers=-1)"
   ]
  },
  {
   "cell_type": "code",
   "execution_count": 10,
   "id": "3db94bdf",
   "metadata": {
    "ExecuteTime": {
     "end_time": "2021-07-16T12:42:21.635395Z",
     "start_time": "2021-07-16T12:41:03.826109Z"
    }
   },
   "outputs": [
    {
     "name": "stdout",
     "output_type": "stream",
     "text": [
      "79/79 [==============================] - 77s 979ms/step - loss: 4.5920 - acc: 0.2729\n"
     ]
    }
   ],
   "source": [
    "test = model.evaluate(Test_Data, steps=len(Test_Data) // BATCH_SIZE, workers=-1, use_multiprocessing=True, verbose=VERBOSE)"
   ]
  },
  {
   "cell_type": "code",
   "execution_count": 32,
   "id": "9ca290e0",
   "metadata": {
    "ExecuteTime": {
     "end_time": "2021-07-16T12:57:05.803715Z",
     "start_time": "2021-07-16T12:57:05.781214Z"
    }
   },
   "outputs": [
    {
     "data": {
      "text/html": [
       "<div>\n",
       "<style scoped>\n",
       "    .dataframe tbody tr th:only-of-type {\n",
       "        vertical-align: middle;\n",
       "    }\n",
       "\n",
       "    .dataframe tbody tr th {\n",
       "        vertical-align: top;\n",
       "    }\n",
       "\n",
       "    .dataframe thead th {\n",
       "        text-align: right;\n",
       "    }\n",
       "</style>\n",
       "<table border=\"1\" class=\"dataframe\">\n",
       "  <thead>\n",
       "    <tr style=\"text-align: right;\">\n",
       "      <th></th>\n",
       "      <th>loss</th>\n",
       "      <th>acc</th>\n",
       "      <th>val_loss</th>\n",
       "      <th>val_acc</th>\n",
       "    </tr>\n",
       "  </thead>\n",
       "  <tbody>\n",
       "    <tr>\n",
       "      <th>0</th>\n",
       "      <td>4.197140</td>\n",
       "      <td>0.090087</td>\n",
       "      <td>4.036989</td>\n",
       "      <td>0.100852</td>\n",
       "    </tr>\n",
       "    <tr>\n",
       "      <th>1</th>\n",
       "      <td>3.596387</td>\n",
       "      <td>0.157575</td>\n",
       "      <td>3.789301</td>\n",
       "      <td>0.132812</td>\n",
       "    </tr>\n",
       "    <tr>\n",
       "      <th>2</th>\n",
       "      <td>3.284070</td>\n",
       "      <td>0.210411</td>\n",
       "      <td>3.741821</td>\n",
       "      <td>0.150568</td>\n",
       "    </tr>\n",
       "    <tr>\n",
       "      <th>3</th>\n",
       "      <td>3.030231</td>\n",
       "      <td>0.255923</td>\n",
       "      <td>3.691170</td>\n",
       "      <td>0.149858</td>\n",
       "    </tr>\n",
       "    <tr>\n",
       "      <th>4</th>\n",
       "      <td>2.827677</td>\n",
       "      <td>0.298161</td>\n",
       "      <td>3.531843</td>\n",
       "      <td>0.198153</td>\n",
       "    </tr>\n",
       "  </tbody>\n",
       "</table>\n",
       "</div>"
      ],
      "text/plain": [
       "       loss       acc  val_loss   val_acc\n",
       "0  4.197140  0.090087  4.036989  0.100852\n",
       "1  3.596387  0.157575  3.789301  0.132812\n",
       "2  3.284070  0.210411  3.741821  0.150568\n",
       "3  3.030231  0.255923  3.691170  0.149858\n",
       "4  2.827677  0.298161  3.531843  0.198153"
      ]
     },
     "execution_count": 32,
     "metadata": {},
     "output_type": "execute_result"
    }
   ],
   "source": [
    "train_history = pd.DataFrame(train.history)\n",
    "train_history.head()"
   ]
  },
  {
   "cell_type": "code",
   "execution_count": 48,
   "id": "06c3ac45",
   "metadata": {
    "ExecuteTime": {
     "end_time": "2021-07-16T13:04:53.158329Z",
     "start_time": "2021-07-16T13:04:52.989296Z"
    }
   },
   "outputs": [
    {
     "data": {
      "image/png": "[encoded data removed]",
      "text/plain": [
       "<Figure size 576x432 with 1 Axes>"
      ]
     },
     "metadata": {
      "needs_background": "light"
     },
     "output_type": "display_data"
    }
   ],
   "source": [
    "plt.figure(figsize=(8, 6))\n",
    "plt.title(\"Training\")\n",
    "def plotline(label):\n",
    "    return plt.plot(train_history[label], label=label, linestyle='--' if label[:3]=='val' else '-')\n",
    "\n",
    "for label in train_history.keys():\n",
    "    plotline(label=label)\n",
    "plt.xlabel('Epochs')\n",
    "plt.legend()\n",
    "plt.margins(x=0, y=0)\n",
    "plt.tight_layout()\n",
    "plt.show()"
   ]
  },
  {
   "cell_type": "code",
   "execution_count": null,
   "id": "00e1874b",
   "metadata": {},
   "outputs": [],
   "source": []
  }
 ],
 "metadata": {
  "kernelspec": {
   "display_name": "Python 3 (ipykernel)",
   "language": "python",
   "name": "python3"
  },
  "language_info": {
   "codemirror_mode": {
    "name": "ipython",
    "version": 3
   },
   "file_extension": ".py",
   "mimetype": "text/x-python",
   "name": "python",
   "nbconvert_exporter": "python",
   "pygments_lexer": "ipython3",
   "version": "3.9.6"
  },
  "toc": {
   "base_numbering": 1,
   "nav_menu": {},
   "number_sections": true,
   "sideBar": true,
   "skip_h1_title": false,
   "title_cell": "Table of Contents",
   "title_sidebar": "Contents",
   "toc_cell": false,
   "toc_position": {},
   "toc_section_display": true,
   "toc_window_display": false
  }
 },
 "nbformat": 4,
 "nbformat_minor": 5
}
