{
 "cells": [
  {
   "cell_type": "code",
   "execution_count": 11,
   "id": "c3fbe1d8",
   "metadata": {
    "ExecuteTime": {
     "end_time": "2021-07-27T13:03:20.419844Z",
     "start_time": "2021-07-27T13:03:20.000499Z"
    }
   },
   "outputs": [],
   "source": [
    "import os\n",
    "os.environ['TF_CPP_MIN_LOG_LEVEL'] = '3'  # nopep8\n",
    "os.environ[\"TF_ENABLE_AUTO_MIXED_PRECISION\"] = '1'\n",
    "\n",
    "FILE_PATH = os.getcwd()\n",
    "import sys\n",
    "sys.path.append('\\\\'.join(FILE_PATH.split('\\\\')[:3]))\n",
    "import argparse\n",
    "import tensorflow as tf\n",
    "from tensorflow import keras\n",
    "from tensorflow.keras import layers\n",
    "import preprocess\n",
    "import pandas as pd\n",
    "from matplotlib import pyplot as plt\n",
    "from trainvaltest import trainvaltest\n",
    "\n",
    "tf.config.experimental.set_memory_growth(tf.config.list_physical_devices('GPU')[0], True)"
   ]
  },
  {
   "cell_type": "code",
   "execution_count": 2,
   "id": "aa09096f",
   "metadata": {
    "ExecuteTime": {
     "end_time": "2021-07-27T06:23:59.210009Z",
     "start_time": "2021-07-27T06:22:26.747274Z"
    }
   },
   "outputs": [
    {
     "name": "stdout",
     "output_type": "stream",
     "text": [
      "\n",
      "Train:\n",
      "Found 376524 images belonging to 101 classes.\n",
      "Validation:\n",
      "Found 37609 images belonging to 101 classes.\n",
      "Test:\n",
      "Found 137772 images belonging to 101 classes.\n",
      "\n",
      "Input shape -> (224, 224, 3)\n",
      "\n"
     ]
    }
   ],
   "source": [
    "MODEL_NAME = \"my_VGG19.h5\"\n",
    "MODEL_PATH = os.path.join(FILE_PATH, MODEL_NAME)\n",
    "BATCH_SIZE = 16\n",
    "LABELS, INPUT_SHAPE, Train_Data, Val_Data, Test_Data = trainvaltest(BATCH_SIZE=BATCH_SIZE)\n",
    "EPOCHS = 20\n",
    "VERBOSE = 1"
   ]
  },
  {
   "cell_type": "code",
   "execution_count": 3,
   "id": "949f4918",
   "metadata": {
    "ExecuteTime": {
     "end_time": "2021-07-27T06:23:59.226069Z",
     "start_time": "2021-07-27T06:23:59.211017Z"
    }
   },
   "outputs": [],
   "source": [
    "class CNNBlock(layers.Layer):\n",
    "    def __init__(self, filters, quad=False, conv_kernel_size=(3, 3), conv_strides=(1, 1), pool_size=(2, 2), pool_strides=(2, 2), padding='same'):\n",
    "        \"\"\"block of either double (or triple) conv layers\n",
    "\n",
    "        Args:\n",
    "            filters (int): numbers of filters for the conv layers within this block\n",
    "            quad (bool, optional): whether this conv block contains double (2) or quadruple (4) conv layers. Defaults to False.\n",
    "            conv_strides (tuple, optional): tuple to set strides value for conv layers. Defaults to (1, 1).\n",
    "            conv_kernel_size (tuple, optional): kernel size for the conv layers in this block. Defaults to (3, 3).\n",
    "            pool_size (tuple, optional): pool size for pooling layer for this block. Defaults to (2, 2).\n",
    "            pool_strides (tuple, optional): strides value for pooling for this block. Defaults to (2, 2).\n",
    "            padding (str, optional): padding value of conv layers. Defaults to 'same'.\n",
    "        \"\"\"\n",
    "        super(CNNBlock, self).__init__()\n",
    "        self.quad = quad\n",
    "        self.pool_size = pool_size\n",
    "        self.pool_strides = pool_strides\n",
    "        self.filters = filters\n",
    "        self.conv_kernel_size = conv_kernel_size\n",
    "        self.conv_strides = conv_strides\n",
    "        self.padding = padding\n",
    "\n",
    "        self.conv1 = self.conv_layer()\n",
    "        self.conv2 = self.conv_layer()\n",
    "        if self.quad == True:\n",
    "            self.conv3 = self.conv_layer()\n",
    "            self.conv4 = self.conv_layer()\n",
    "        self.batch_norm = layers.BatchNormalization()\n",
    "        self.maxpooling = layers.MaxPooling2D(pool_size=self.pool_size, strides=self.pool_strides)\n",
    "        \n",
    "    def get_config(self):\n",
    "        config = super().get_config().copy()\n",
    "        config.update({\n",
    "            'quad': self.quad,\n",
    "            'pool_size': self.pool_size,\n",
    "            'pool_strides': self.pool_strides,\n",
    "            'filters': self.filters,\n",
    "            'conv_kernel_size': self.conv_kernel_size,\n",
    "            'conv_strides': self.conv_strides,\n",
    "            'padding': self.padding,\n",
    "        })\n",
    "        return config\n",
    "\n",
    "    def conv_layer(self):\n",
    "        return layers.Conv2D(filters=self.filters, kernel_size=self.conv_kernel_size, strides=self.conv_strides,\n",
    "                             padding=self.padding, activation=layers.ReLU(), use_bias=False, kernel_initializer='he_normal')\n",
    "\n",
    "    def __call__(self, input_tensor, training=False):\n",
    "        \"\"\"forward propagation\n",
    "\n",
    "        Args:\n",
    "            input_tensor (input_tensor): input tensor for this data point\n",
    "            training (bool): whether to set batch normalization to training or not\n",
    "\n",
    "        Returns:\n",
    "            tensor: output of the current CNN block\n",
    "        \"\"\"\n",
    "        x = self.conv1(input_tensor)\n",
    "        x = self.conv2(x)\n",
    "        if self.quad == True:\n",
    "            x = self.conv3(x)\n",
    "            x = self.conv4(x)\n",
    "        x = self.batch_norm(x, training=training)\n",
    "        x = self.maxpooling(x)\n",
    "        return x"
   ]
  },
  {
   "cell_type": "code",
   "execution_count": 4,
   "id": "0fcaa9b4",
   "metadata": {
    "ExecuteTime": {
     "end_time": "2021-07-27T06:23:59.242081Z",
     "start_time": "2021-07-27T06:23:59.230066Z"
    }
   },
   "outputs": [],
   "source": [
    "class Model(keras.Model):\n",
    "    def __init__(self, n_labels):\n",
    "        \"\"\"model build via subclassing\n",
    "\n",
    "        Args:\n",
    "            n_labels (int): amount of labels for the model to predict\n",
    "        \"\"\"\n",
    "        super(Model, self).__init__()\n",
    "        self.n_labels = n_labels\n",
    "\n",
    "        self.preprocess = preprocess.PreprocessingLayers()\n",
    "        self.cnnblock1 = CNNBlock(filters=64)\n",
    "        self.cnnblock2 = CNNBlock(filters=128)\n",
    "        self.cnnblock3 = CNNBlock(filters=256, quad=True)\n",
    "        self.cnnblock4 = CNNBlock(filters=512, quad=True)\n",
    "        self.cnnblock5 = CNNBlock(filters=512, quad=True)\n",
    "        self.globalmaxpooling = layers.GlobalMaxPooling2D()\n",
    "        self.flatten = layers.Flatten()\n",
    "        self.fc = layers.Dense(4096, activation=layers.ReLU())\n",
    "        self.fc2 = layers.Dense(4096, activation=layers.ReLU())\n",
    "        self.outputs = layers.Dense(self.n_labels)\n",
    "\n",
    "    @tf.function\n",
    "    def call(self, input_tensor):\n",
    "        \"\"\"forward propagation for the entire model between each layer\n",
    "\n",
    "        Args:\n",
    "            input_tensor (tensor): output of the previous layer\n",
    "\n",
    "        Returns:\n",
    "            tensor: output of the previous tensor\n",
    "        \"\"\"\n",
    "        x = self.preprocess(input_tensor)\n",
    "        x = self.cnnblock1(x)\n",
    "        x = self.cnnblock2(x)\n",
    "        x = self.cnnblock3(x)\n",
    "        x = self.cnnblock4(x)\n",
    "        x = self.cnnblock5(x)\n",
    "        x = self.globalmaxpooling(x)\n",
    "        x = self.flatten(x)\n",
    "        x = self.fc(x)\n",
    "        x = self.fc2(x)\n",
    "        x = self.outputs(x)\n",
    "        return x"
   ]
  },
  {
   "cell_type": "code",
   "execution_count": 5,
   "id": "75e3c2c5",
   "metadata": {
    "ExecuteTime": {
     "end_time": "2021-07-27T06:23:59.258158Z",
     "start_time": "2021-07-27T06:23:59.244075Z"
    }
   },
   "outputs": [],
   "source": [
    "def create_model(inp_shape, n_labels, model_name):\n",
    "    \"\"\"creates model (input and output), name layers and compile\n",
    "\n",
    "    Args:\n",
    "        inp_shape (tuple(int)): tuple of ints, input shape\n",
    "        n_labels (int): number of labels for last layer\n",
    "        model_name (str): name of model\n",
    "        layer_names (list(str)): list of names for each layer in model\n",
    "\n",
    "    Returns:\n",
    "        model: named and configured model with input/output and named layers\n",
    "    \"\"\"\n",
    "    model = keras.Sequential(Model(n_labels=n_labels).layers)    \n",
    "    model._name = model_name\n",
    "    model.build(input_shape=(None, *inp_shape))\n",
    "\n",
    "    model.compile(loss=keras.losses.SparseCategoricalCrossentropy(from_logits=True),\n",
    "                  optimizer=keras.optimizers.Adam(learning_rate=1e-4),\n",
    "                  metrics=[keras.metrics.SparseCategoricalAccuracy(name='acc')])\n",
    "\n",
    "    model.summary()\n",
    "    return model"
   ]
  },
  {
   "cell_type": "code",
   "execution_count": 6,
   "id": "9f6d917d",
   "metadata": {
    "ExecuteTime": {
     "end_time": "2021-07-27T06:24:00.541136Z",
     "start_time": "2021-07-27T06:23:59.260348Z"
    }
   },
   "outputs": [
    {
     "name": "stdout",
     "output_type": "stream",
     "text": [
      "Model: \"my_VGG19.h5\"\n",
      "_________________________________________________________________\n",
      "Layer (type)                 Output Shape              Param #   \n",
      "=================================================================\n",
      "preprocessing_layers (Prepro (None, 224, 224, 3)       0         \n",
      "_________________________________________________________________\n",
      "conv2d (Conv2D)              (None, 224, 224, 64)      1728      \n",
      "_________________________________________________________________\n",
      "conv2d_1 (Conv2D)            (None, 224, 224, 64)      36864     \n",
      "_________________________________________________________________\n",
      "batch_normalization (BatchNo (None, 224, 224, 64)      256       \n",
      "_________________________________________________________________\n",
      "max_pooling2d (MaxPooling2D) (None, 112, 112, 64)      0         \n",
      "_________________________________________________________________\n",
      "conv2d_2 (Conv2D)            (None, 112, 112, 128)     73728     \n",
      "_________________________________________________________________\n",
      "conv2d_3 (Conv2D)            (None, 112, 112, 128)     147456    \n",
      "_________________________________________________________________\n",
      "batch_normalization_1 (Batch (None, 112, 112, 128)     512       \n",
      "_________________________________________________________________\n",
      "max_pooling2d_1 (MaxPooling2 (None, 56, 56, 128)       0         \n",
      "_________________________________________________________________\n",
      "conv2d_4 (Conv2D)            (None, 56, 56, 256)       294912    \n",
      "_________________________________________________________________\n",
      "conv2d_5 (Conv2D)            (None, 56, 56, 256)       589824    \n",
      "_________________________________________________________________\n",
      "conv2d_6 (Conv2D)            (None, 56, 56, 256)       589824    \n",
      "_________________________________________________________________\n",
      "conv2d_7 (Conv2D)            (None, 56, 56, 256)       589824    \n",
      "_________________________________________________________________\n",
      "batch_normalization_2 (Batch (None, 56, 56, 256)       1024      \n",
      "_________________________________________________________________\n",
      "max_pooling2d_2 (MaxPooling2 (None, 28, 28, 256)       0         \n",
      "_________________________________________________________________\n",
      "conv2d_8 (Conv2D)            (None, 28, 28, 512)       1179648   \n",
      "_________________________________________________________________\n",
      "conv2d_9 (Conv2D)            (None, 28, 28, 512)       2359296   \n",
      "_________________________________________________________________\n",
      "conv2d_10 (Conv2D)           (None, 28, 28, 512)       2359296   \n",
      "_________________________________________________________________\n",
      "conv2d_11 (Conv2D)           (None, 28, 28, 512)       2359296   \n",
      "_________________________________________________________________\n",
      "batch_normalization_3 (Batch (None, 28, 28, 512)       2048      \n",
      "_________________________________________________________________\n",
      "max_pooling2d_3 (MaxPooling2 (None, 14, 14, 512)       0         \n",
      "_________________________________________________________________\n",
      "conv2d_12 (Conv2D)           (None, 14, 14, 512)       2359296   \n",
      "_________________________________________________________________\n",
      "conv2d_13 (Conv2D)           (None, 14, 14, 512)       2359296   \n",
      "_________________________________________________________________\n",
      "conv2d_14 (Conv2D)           (None, 14, 14, 512)       2359296   \n",
      "_________________________________________________________________\n",
      "conv2d_15 (Conv2D)           (None, 14, 14, 512)       2359296   \n",
      "_________________________________________________________________\n",
      "batch_normalization_4 (Batch (None, 14, 14, 512)       2048      \n",
      "_________________________________________________________________\n",
      "max_pooling2d_4 (MaxPooling2 (None, 7, 7, 512)         0         \n",
      "_________________________________________________________________\n",
      "global_max_pooling2d (Global (None, 512)               0         \n",
      "_________________________________________________________________\n",
      "flatten (Flatten)            (None, 512)               0         \n",
      "_________________________________________________________________\n",
      "dense (Dense)                (None, 4096)              2101248   \n",
      "_________________________________________________________________\n",
      "dense_1 (Dense)              (None, 4096)              16781312  \n",
      "_________________________________________________________________\n",
      "dense_2 (Dense)              (None, 101)               413797    \n",
      "=================================================================\n",
      "Total params: 39,321,125\n",
      "Trainable params: 39,318,181\n",
      "Non-trainable params: 2,944\n",
      "_________________________________________________________________\n"
     ]
    }
   ],
   "source": [
    "model = create_model(inp_shape=INPUT_SHAPE, n_labels=LABELS, model_name=MODEL_NAME)\n",
    "earlystopping = keras.callbacks.EarlyStopping(monitor='val_acc', patience=3, verbose=VERBOSE)\n",
    "callbacks = [earlystopping]\n",
    "\n",
    "best_checkpoint = keras.callbacks.ModelCheckpoint(filepath=MODEL_PATH,\n",
    "                                                  monitor='val_acc',\n",
    "                                                  save_best_only=True,\n",
    "                                                  save_freq='epoch',\n",
    "                                                  verbose=VERBOSE)\n",
    "callbacks.append(best_checkpoint)"
   ]
  },
  {
   "cell_type": "code",
   "execution_count": 7,
   "id": "66c4adcc",
   "metadata": {
    "ExecuteTime": {
     "end_time": "2021-07-27T12:43:23.946367Z",
     "start_time": "2021-07-27T06:24:00.544146Z"
    },
    "scrolled": false
   },
   "outputs": [
    {
     "name": "stdout",
     "output_type": "stream",
     "text": [
      "Epoch 1/20\n",
      "1470/1470 [==============================] - 1771s 1s/step - loss: 3.8138 - acc: 0.1295 - val_loss: 3.3294 - val_acc: 0.1862\n",
      "\n",
      "Epoch 00001: val_acc improved from -inf to 0.18622, saving model to D:\\Python\\Action Recognition\\Custom VGG19\\my_VGG19.h5\n",
      "Epoch 2/20\n",
      "1470/1470 [==============================] - 1760s 1s/step - loss: 3.0222 - acc: 0.2582 - val_loss: 3.0732 - val_acc: 0.2530\n",
      "\n",
      "Epoch 00002: val_acc improved from 0.18622 to 0.25300, saving model to D:\\Python\\Action Recognition\\Custom VGG19\\my_VGG19.h5\n",
      "Epoch 3/20\n",
      "1470/1470 [==============================] - 1728s 1s/step - loss: 2.4681 - acc: 0.3723 - val_loss: 2.3047 - val_acc: 0.4028\n",
      "\n",
      "Epoch 00003: val_acc improved from 0.25300 to 0.40283, saving model to D:\\Python\\Action Recognition\\Custom VGG19\\my_VGG19.h5\n",
      "Epoch 4/20\n",
      "1470/1470 [==============================] - 1744s 1s/step - loss: 2.0048 - acc: 0.4789 - val_loss: 2.7080 - val_acc: 0.3643\n",
      "\n",
      "Epoch 00004: val_acc did not improve from 0.40283\n",
      "Epoch 5/20\n",
      "1470/1470 [==============================] - 1710s 1s/step - loss: 1.6599 - acc: 0.5594 - val_loss: 1.4615 - val_acc: 0.6032\n",
      "\n",
      "Epoch 00005: val_acc improved from 0.40283 to 0.60317, saving model to D:\\Python\\Action Recognition\\Custom VGG19\\my_VGG19.h5\n",
      "Epoch 6/20\n",
      "1470/1470 [==============================] - 1739s 1s/step - loss: 1.3233 - acc: 0.6433 - val_loss: 0.9579 - val_acc: 0.7363\n",
      "\n",
      "Epoch 00006: val_acc improved from 0.60317 to 0.73630, saving model to D:\\Python\\Action Recognition\\Custom VGG19\\my_VGG19.h5\n",
      "Epoch 7/20\n",
      "1470/1470 [==============================] - 1701s 1s/step - loss: 1.1341 - acc: 0.6917 - val_loss: 0.7389 - val_acc: 0.7945\n",
      "\n",
      "Epoch 00007: val_acc improved from 0.73630 to 0.79452, saving model to D:\\Python\\Action Recognition\\Custom VGG19\\my_VGG19.h5\n",
      "Epoch 8/20\n",
      "1470/1470 [==============================] - 1714s 1s/step - loss: 0.9490 - acc: 0.7374 - val_loss: 0.7187 - val_acc: 0.8039\n",
      "\n",
      "Epoch 00008: val_acc improved from 0.79452 to 0.80394, saving model to D:\\Python\\Action Recognition\\Custom VGG19\\my_VGG19.h5\n",
      "Epoch 9/20\n",
      "1470/1470 [==============================] - 1800s 1s/step - loss: 0.8094 - acc: 0.7754 - val_loss: 0.9256 - val_acc: 0.7277\n",
      "\n",
      "Epoch 00009: val_acc did not improve from 0.80394\n",
      "Epoch 10/20\n",
      "1470/1470 [==============================] - 1805s 1s/step - loss: 0.7210 - acc: 0.7980 - val_loss: 0.6040 - val_acc: 0.8318\n",
      "\n",
      "Epoch 00010: val_acc improved from 0.80394 to 0.83176, saving model to D:\\Python\\Action Recognition\\Custom VGG19\\my_VGG19.h5\n",
      "Epoch 11/20\n",
      "1470/1470 [==============================] - 1756s 1s/step - loss: 0.6458 - acc: 0.8178 - val_loss: 0.7226 - val_acc: 0.8014\n",
      "\n",
      "Epoch 00011: val_acc did not improve from 0.83176\n",
      "Epoch 12/20\n",
      "1470/1470 [==============================] - 1757s 1s/step - loss: 0.5687 - acc: 0.8383 - val_loss: 0.8445 - val_acc: 0.8172\n",
      "\n",
      "Epoch 00012: val_acc did not improve from 0.83176\n",
      "Epoch 13/20\n",
      "1470/1470 [==============================] - 1745s 1s/step - loss: 0.5429 - acc: 0.8455 - val_loss: 0.8557 - val_acc: 0.7701\n",
      "\n",
      "Epoch 00013: val_acc did not improve from 0.83176\n",
      "Epoch 00013: early stopping\n"
     ]
    }
   ],
   "source": [
    "train = model.fit(Train_Data,\n",
    "                  epochs=EPOCHS,\n",
    "                  verbose=VERBOSE,\n",
    "                  steps_per_epoch=len(Train_Data) // BATCH_SIZE,\n",
    "                  callbacks=callbacks,\n",
    "                  validation_data=Val_Data,\n",
    "                  validation_steps=len(Val_Data) // BATCH_SIZE,\n",
    "                  use_multiprocessing=True,\n",
    "                  workers=-1)"
   ]
  },
  {
   "cell_type": "code",
   "execution_count": 8,
   "id": "e48c0940",
   "metadata": {
    "ExecuteTime": {
     "end_time": "2021-07-27T12:53:06.248472Z",
     "start_time": "2021-07-27T12:43:23.969437Z"
    }
   },
   "outputs": [
    {
     "name": "stdout",
     "output_type": "stream",
     "text": [
      "538/538 [==============================] - 580s 1s/step - loss: 5.6294 - acc: 0.1961\n"
     ]
    }
   ],
   "source": [
    "test = model.evaluate(Test_Data, steps=len(Test_Data) // BATCH_SIZE, workers=-1, use_multiprocessing=True, verbose=VERBOSE)"
   ]
  },
  {
   "cell_type": "code",
   "execution_count": 9,
   "id": "21b4ce95",
   "metadata": {
    "ExecuteTime": {
     "end_time": "2021-07-27T12:53:06.374416Z",
     "start_time": "2021-07-27T12:53:06.252478Z"
    }
   },
   "outputs": [
    {
     "data": {
      "text/html": [
       "<div>\n",
       "<style scoped>\n",
       "    .dataframe tbody tr th:only-of-type {\n",
       "        vertical-align: middle;\n",
       "    }\n",
       "\n",
       "    .dataframe tbody tr th {\n",
       "        vertical-align: top;\n",
       "    }\n",
       "\n",
       "    .dataframe thead th {\n",
       "        text-align: right;\n",
       "    }\n",
       "</style>\n",
       "<table border=\"1\" class=\"dataframe\">\n",
       "  <thead>\n",
       "    <tr style=\"text-align: right;\">\n",
       "      <th></th>\n",
       "      <th>loss</th>\n",
       "      <th>acc</th>\n",
       "      <th>val_loss</th>\n",
       "      <th>val_acc</th>\n",
       "    </tr>\n",
       "  </thead>\n",
       "  <tbody>\n",
       "    <tr>\n",
       "      <th>0</th>\n",
       "      <td>3.813825</td>\n",
       "      <td>0.129549</td>\n",
       "      <td>3.329401</td>\n",
       "      <td>0.186216</td>\n",
       "    </tr>\n",
       "    <tr>\n",
       "      <th>1</th>\n",
       "      <td>3.022164</td>\n",
       "      <td>0.258248</td>\n",
       "      <td>3.073230</td>\n",
       "      <td>0.252997</td>\n",
       "    </tr>\n",
       "    <tr>\n",
       "      <th>2</th>\n",
       "      <td>2.468083</td>\n",
       "      <td>0.372321</td>\n",
       "      <td>2.304660</td>\n",
       "      <td>0.402825</td>\n",
       "    </tr>\n",
       "    <tr>\n",
       "      <th>3</th>\n",
       "      <td>2.004824</td>\n",
       "      <td>0.478869</td>\n",
       "      <td>2.707997</td>\n",
       "      <td>0.364298</td>\n",
       "    </tr>\n",
       "    <tr>\n",
       "      <th>4</th>\n",
       "      <td>1.659898</td>\n",
       "      <td>0.559354</td>\n",
       "      <td>1.461498</td>\n",
       "      <td>0.603168</td>\n",
       "    </tr>\n",
       "  </tbody>\n",
       "</table>\n",
       "</div>"
      ],
      "text/plain": [
       "       loss       acc  val_loss   val_acc\n",
       "0  3.813825  0.129549  3.329401  0.186216\n",
       "1  3.022164  0.258248  3.073230  0.252997\n",
       "2  2.468083  0.372321  2.304660  0.402825\n",
       "3  2.004824  0.478869  2.707997  0.364298\n",
       "4  1.659898  0.559354  1.461498  0.603168"
      ]
     },
     "execution_count": 9,
     "metadata": {},
     "output_type": "execute_result"
    }
   ],
   "source": [
    "train_history = pd.DataFrame(train.history)\n",
    "train_history.head()"
   ]
  },
  {
   "cell_type": "code",
   "execution_count": 12,
   "id": "1d934cfa",
   "metadata": {
    "ExecuteTime": {
     "end_time": "2021-07-27T13:03:31.854391Z",
     "start_time": "2021-07-27T13:03:31.644154Z"
    }
   },
   "outputs": [
    {
     "data": {
      "image/png": "[encoded data removed]",
      "text/plain": [
       "<Figure size 576x432 with 1 Axes>"
      ]
     },
     "metadata": {
      "needs_background": "light"
     },
     "output_type": "display_data"
    }
   ],
   "source": [
    "plt.figure(figsize=(8, 6))\n",
    "plt.title(\"Training\")\n",
    "def plotline(label):\n",
    "    return plt.plot(train_history[label], label=label, linestyle='--' if label[:3]=='val' else '-')\n",
    "\n",
    "for label in train_history.keys():\n",
    "    plotline(label=label)\n",
    "plt.xlabel('Epochs')\n",
    "plt.legend()\n",
    "plt.margins(x=0, y=0)\n",
    "plt.tight_layout()\n",
    "plt.show()"
   ]
  }
 ],
 "metadata": {
  "kernelspec": {
   "display_name": "Python 3 (ipykernel)",
   "language": "python",
   "name": "python3"
  },
  "language_info": {
   "codemirror_mode": {
    "name": "ipython",
    "version": 3
   },
   "file_extension": ".py",
   "mimetype": "text/x-python",
   "name": "python",
   "nbconvert_exporter": "python",
   "pygments_lexer": "ipython3",
   "version": "3.9.6"
  },
  "toc": {
   "base_numbering": 1,
   "nav_menu": {},
   "number_sections": true,
   "sideBar": true,
   "skip_h1_title": false,
   "title_cell": "Table of Contents",
   "title_sidebar": "Contents",
   "toc_cell": false,
   "toc_position": {},
   "toc_section_display": true,
   "toc_window_display": false
  }
 },
 "nbformat": 4,
 "nbformat_minor": 5
}
